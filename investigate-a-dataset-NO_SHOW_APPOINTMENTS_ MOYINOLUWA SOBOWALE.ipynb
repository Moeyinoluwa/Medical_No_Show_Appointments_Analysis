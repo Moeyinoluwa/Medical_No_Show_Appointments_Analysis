{
 "cells": [
  {
   "cell_type": "markdown",
   "metadata": {},
   "source": [
    "# Project: Investigate a Dataset - [No-show appointments]\n",
    "\n",
    "## Table of Contents\n",
    "<ul>\n",
    "<li><a href=\"#intro\">Introduction</a></li>\n",
    "<li><a href=\"#wrangling\">Data Wrangling</a></li>\n",
    "<li><a href=\"#eda\">Exploratory Data Analysis</a></li>\n",
    "<li><a href=\"#conclusions\">Conclusions</a></li>\n",
    "</ul>"
   ]
  },
  {
   "cell_type": "markdown",
   "metadata": {},
   "source": [
    "<a id='intro'></a>\n",
    "## Introduction\n",
    "\n",
    "### Dataset Description\n",
    "This dataset collects information from 100k medical appointments in Brazil and is focused on the question of whether or not patients show up for their appointment. A number of characteristics about the patient are included in each row.\n",
    "\n",
    "### Column Names (characteristics) and their Significance\n",
    "\n",
    "**Patientid**: This is the unique identifier of a patient.\n",
    "\n",
    "**AppointmentID**: This helps us identify the patient's appointment.\n",
    "\n",
    "**Gender**: This indicates if the patient is a female or male.\n",
    "\n",
    "**ScheduledDay**: This tells us what day the appointment was registered i.e the day the patient set up their appointment.\n",
    "\n",
    "**AppointmentDay**: This indiactes when the patient has to show up at the hospital i.e vist the doctor.\n",
    "\n",
    "**Age**: This lets us know the age of the patient.\n",
    "\n",
    "**Neighbourhood**: This tells us the location of the hospital.\n",
    "\n",
    "**Scholarship**: This tells us if a patient is enrolled in a scholarship welfare program called \"Bolsa Família\". Bolsa Família gives financial aid to poor Brazilian families. 0 is False and 1 is True.\n",
    "\n",
    "**Hipertension**: This tells us of the patient has hypertension or not. 0 is False and 1 is True.\n",
    "\n",
    "**Diabetes**: This tells us if the patient has diabetes or not. 0 is False and 1 is True.\n",
    "\n",
    "**Alcoholism**: This tells us if the person is into alcoholism or not. 0 is False and 1 is True.\n",
    "\n",
    "**Handicap**: This tells us if the patient has a disability (is handicapped). 0 is False and 1 is True.\n",
    "\n",
    "**SMS_received**: This tells us if the patient received the SMS reminder. 0 is False and 1 is True.\n",
    "\n",
    "**No-show**: This lets us know if the patient went for their appointment with the doctor or not. ‘No’ means the patient showed up for their appointment, while ‘Yes’ meant they did not show up for their appointment.\n",
    "\n",
    " \n",
    "\n",
    "### Question(s) for Analysis\n",
    "The following are questions that I plan to explore:\n",
    "\n",
    "1) What is the proportion of patients who showed up compared to those who didn't show up on their appointment day?\n",
    "\n",
    "2) What factors are important for us to know in order to predict if a patient will show up for their scheduled appointment?\n",
    "\n",
    "- Is alcoholism a contributing factor to a patient's absence?\n",
    "\n",
    "- Does having a scholarship affect whether the patient will show up or not?\n",
    "\n",
    "- Does having hypertension affect the patient's absence?\n",
    "\n",
    "- Does being handicapped affect the patient's absence?\n",
    "\n",
    "- Does having diabetes affect the patient's absence?\n",
    "\n",
    "- Does the SMS reminder sent to each patients reduce their ability be absent? \n",
    "\n",
    "- Does the patient's gender affect their ability to be absent? Which gender visits the hospital more on their appointment day? Which gender is more health concious\n",
    "\n",
    "- Is age a contributing factor to a patient's absence?\n"
   ]
  },
  {
   "cell_type": "code",
   "execution_count": 1,
   "metadata": {},
   "outputs": [],
   "source": [
    "#Import all important packages\n",
    "import pandas as pd\n",
    "import numpy as np\n",
    "import matplotlib.pyplot as plt\n",
    "import seaborn as sns\n",
    "%matplotlib inline\n",
    "\n",
    "#The magic word ensures that the visualizations are plotted inline with the jupyter notebook. See this page for more:\n",
    "#http://ipython.readthedocs.io/en/stable/interactive/magics.html"
   ]
  },
  {
   "cell_type": "markdown",
   "metadata": {},
   "source": [
    "<a id='wrangling'></a>\n",
    "## Data Wrangling\n",
    "\n",
    "### General Properties"
   ]
  },
  {
   "cell_type": "code",
   "execution_count": 2,
   "metadata": {
    "scrolled": true
   },
   "outputs": [
    {
     "data": {
      "text/html": [
       "<div>\n",
       "<style scoped>\n",
       "    .dataframe tbody tr th:only-of-type {\n",
       "        vertical-align: middle;\n",
       "    }\n",
       "\n",
       "    .dataframe tbody tr th {\n",
       "        vertical-align: top;\n",
       "    }\n",
       "\n",
       "    .dataframe thead th {\n",
       "        text-align: right;\n",
       "    }\n",
       "</style>\n",
       "<table border=\"1\" class=\"dataframe\">\n",
       "  <thead>\n",
       "    <tr style=\"text-align: right;\">\n",
       "      <th></th>\n",
       "      <th>PatientId</th>\n",
       "      <th>AppointmentID</th>\n",
       "      <th>Gender</th>\n",
       "      <th>ScheduledDay</th>\n",
       "      <th>AppointmentDay</th>\n",
       "      <th>Age</th>\n",
       "      <th>Neighbourhood</th>\n",
       "      <th>Scholarship</th>\n",
       "      <th>Hipertension</th>\n",
       "      <th>Diabetes</th>\n",
       "      <th>Alcoholism</th>\n",
       "      <th>Handcap</th>\n",
       "      <th>SMS_received</th>\n",
       "      <th>No-show</th>\n",
       "    </tr>\n",
       "  </thead>\n",
       "  <tbody>\n",
       "    <tr>\n",
       "      <th>0</th>\n",
       "      <td>2.987250e+13</td>\n",
       "      <td>5642903</td>\n",
       "      <td>F</td>\n",
       "      <td>2016-04-29T18:38:08Z</td>\n",
       "      <td>2016-04-29T00:00:00Z</td>\n",
       "      <td>62</td>\n",
       "      <td>JARDIM DA PENHA</td>\n",
       "      <td>0</td>\n",
       "      <td>1</td>\n",
       "      <td>0</td>\n",
       "      <td>0</td>\n",
       "      <td>0</td>\n",
       "      <td>0</td>\n",
       "      <td>No</td>\n",
       "    </tr>\n",
       "    <tr>\n",
       "      <th>1</th>\n",
       "      <td>5.589978e+14</td>\n",
       "      <td>5642503</td>\n",
       "      <td>M</td>\n",
       "      <td>2016-04-29T16:08:27Z</td>\n",
       "      <td>2016-04-29T00:00:00Z</td>\n",
       "      <td>56</td>\n",
       "      <td>JARDIM DA PENHA</td>\n",
       "      <td>0</td>\n",
       "      <td>0</td>\n",
       "      <td>0</td>\n",
       "      <td>0</td>\n",
       "      <td>0</td>\n",
       "      <td>0</td>\n",
       "      <td>No</td>\n",
       "    </tr>\n",
       "    <tr>\n",
       "      <th>2</th>\n",
       "      <td>4.262962e+12</td>\n",
       "      <td>5642549</td>\n",
       "      <td>F</td>\n",
       "      <td>2016-04-29T16:19:04Z</td>\n",
       "      <td>2016-04-29T00:00:00Z</td>\n",
       "      <td>62</td>\n",
       "      <td>MATA DA PRAIA</td>\n",
       "      <td>0</td>\n",
       "      <td>0</td>\n",
       "      <td>0</td>\n",
       "      <td>0</td>\n",
       "      <td>0</td>\n",
       "      <td>0</td>\n",
       "      <td>No</td>\n",
       "    </tr>\n",
       "    <tr>\n",
       "      <th>3</th>\n",
       "      <td>8.679512e+11</td>\n",
       "      <td>5642828</td>\n",
       "      <td>F</td>\n",
       "      <td>2016-04-29T17:29:31Z</td>\n",
       "      <td>2016-04-29T00:00:00Z</td>\n",
       "      <td>8</td>\n",
       "      <td>PONTAL DE CAMBURI</td>\n",
       "      <td>0</td>\n",
       "      <td>0</td>\n",
       "      <td>0</td>\n",
       "      <td>0</td>\n",
       "      <td>0</td>\n",
       "      <td>0</td>\n",
       "      <td>No</td>\n",
       "    </tr>\n",
       "    <tr>\n",
       "      <th>4</th>\n",
       "      <td>8.841186e+12</td>\n",
       "      <td>5642494</td>\n",
       "      <td>F</td>\n",
       "      <td>2016-04-29T16:07:23Z</td>\n",
       "      <td>2016-04-29T00:00:00Z</td>\n",
       "      <td>56</td>\n",
       "      <td>JARDIM DA PENHA</td>\n",
       "      <td>0</td>\n",
       "      <td>1</td>\n",
       "      <td>1</td>\n",
       "      <td>0</td>\n",
       "      <td>0</td>\n",
       "      <td>0</td>\n",
       "      <td>No</td>\n",
       "    </tr>\n",
       "  </tbody>\n",
       "</table>\n",
       "</div>"
      ],
      "text/plain": [
       "      PatientId  AppointmentID Gender          ScheduledDay  \\\n",
       "0  2.987250e+13        5642903      F  2016-04-29T18:38:08Z   \n",
       "1  5.589978e+14        5642503      M  2016-04-29T16:08:27Z   \n",
       "2  4.262962e+12        5642549      F  2016-04-29T16:19:04Z   \n",
       "3  8.679512e+11        5642828      F  2016-04-29T17:29:31Z   \n",
       "4  8.841186e+12        5642494      F  2016-04-29T16:07:23Z   \n",
       "\n",
       "         AppointmentDay  Age      Neighbourhood  Scholarship  Hipertension  \\\n",
       "0  2016-04-29T00:00:00Z   62    JARDIM DA PENHA            0             1   \n",
       "1  2016-04-29T00:00:00Z   56    JARDIM DA PENHA            0             0   \n",
       "2  2016-04-29T00:00:00Z   62      MATA DA PRAIA            0             0   \n",
       "3  2016-04-29T00:00:00Z    8  PONTAL DE CAMBURI            0             0   \n",
       "4  2016-04-29T00:00:00Z   56    JARDIM DA PENHA            0             1   \n",
       "\n",
       "   Diabetes  Alcoholism  Handcap  SMS_received No-show  \n",
       "0         0           0        0             0      No  \n",
       "1         0           0        0             0      No  \n",
       "2         0           0        0             0      No  \n",
       "3         0           0        0             0      No  \n",
       "4         1           0        0             0      No  "
      ]
     },
     "execution_count": 2,
     "metadata": {},
     "output_type": "execute_result"
    }
   ],
   "source": [
    "#load the dataset into a pandas dataframe\n",
    "data = pd.read_csv(r\"C:\\Users\\User\\Downloads\\Moyin\\UDACITY - DATA ANALYST NANODEGREE\\PROJECT 1\\noshowappointments-kagglev2-may-2016.csv\", )\n",
    "\n",
    "#view the dataframe\n",
    "data.head()\n"
   ]
  },
  {
   "cell_type": "code",
   "execution_count": 3,
   "metadata": {},
   "outputs": [
    {
     "data": {
      "text/plain": [
       "(110527, 14)"
      ]
     },
     "execution_count": 3,
     "metadata": {},
     "output_type": "execute_result"
    }
   ],
   "source": [
    "#How many rows and columns are in the dataset?\n",
    "data.shape"
   ]
  },
  {
   "cell_type": "code",
   "execution_count": 4,
   "metadata": {},
   "outputs": [
    {
     "data": {
      "text/plain": [
       "110527"
      ]
     },
     "execution_count": 4,
     "metadata": {},
     "output_type": "execute_result"
    }
   ],
   "source": [
    "#How many rows (entries) are in the dataset?\n",
    "data.shape[0]"
   ]
  },
  {
   "cell_type": "markdown",
   "metadata": {},
   "source": [
    "**There are 110527 rows and 14 columns in the dataset**"
   ]
  },
  {
   "cell_type": "code",
   "execution_count": 5,
   "metadata": {},
   "outputs": [
    {
     "name": "stdout",
     "output_type": "stream",
     "text": [
      "<class 'pandas.core.frame.DataFrame'>\n",
      "RangeIndex: 110527 entries, 0 to 110526\n",
      "Data columns (total 14 columns):\n",
      " #   Column          Non-Null Count   Dtype  \n",
      "---  ------          --------------   -----  \n",
      " 0   PatientId       110527 non-null  float64\n",
      " 1   AppointmentID   110527 non-null  int64  \n",
      " 2   Gender          110527 non-null  object \n",
      " 3   ScheduledDay    110527 non-null  object \n",
      " 4   AppointmentDay  110527 non-null  object \n",
      " 5   Age             110527 non-null  int64  \n",
      " 6   Neighbourhood   110527 non-null  object \n",
      " 7   Scholarship     110527 non-null  int64  \n",
      " 8   Hipertension    110527 non-null  int64  \n",
      " 9   Diabetes        110527 non-null  int64  \n",
      " 10  Alcoholism      110527 non-null  int64  \n",
      " 11  Handcap         110527 non-null  int64  \n",
      " 12  SMS_received    110527 non-null  int64  \n",
      " 13  No-show         110527 non-null  object \n",
      "dtypes: float64(1), int64(8), object(5)\n",
      "memory usage: 11.8+ MB\n"
     ]
    }
   ],
   "source": [
    "#View a concise summary of the 'Data' dataframe including the number of non-null values in each column\n",
    "data.info()"
   ]
  },
  {
   "cell_type": "markdown",
   "metadata": {},
   "source": [
    "From the output above, we can see that come column names are not spelled correctly. For example: \"Hipertension\" instead of \"Hypertension\", \"Handcap\" instead of \"Handicapped\".\n",
    "We can also see that the following column names need to be renamed as they are not properly represented:\n",
    "- PatientId\n",
    "- AppointmentID\n",
    "- ScheduledDay\n",
    "- AppointmentDay\n",
    "- No-show  "
   ]
  },
  {
   "cell_type": "code",
   "execution_count": 6,
   "metadata": {
    "scrolled": true
   },
   "outputs": [
    {
     "data": {
      "text/plain": [
       "PatientId         float64\n",
       "AppointmentID       int64\n",
       "Gender             object\n",
       "ScheduledDay       object\n",
       "AppointmentDay     object\n",
       "Age                 int64\n",
       "Neighbourhood      object\n",
       "Scholarship         int64\n",
       "Hipertension        int64\n",
       "Diabetes            int64\n",
       "Alcoholism          int64\n",
       "Handcap             int64\n",
       "SMS_received        int64\n",
       "No-show            object\n",
       "dtype: object"
      ]
     },
     "execution_count": 6,
     "metadata": {},
     "output_type": "execute_result"
    }
   ],
   "source": [
    "#View the datatypes of each column in the dataframe\n",
    "data.dtypes"
   ]
  },
  {
   "cell_type": "markdown",
   "metadata": {},
   "source": [
    "The data types of the following columns need to be formatted as they are not in the right format:\n",
    "- PatientId is in numerical format instead of object/string format\n",
    "- AppointmentID is in numerical format instead of object/string format\n",
    "- ScheduledDay is in object format insead of datetime format\n",
    "- AppointmentDay is in object format insead of datetime format"
   ]
  },
  {
   "cell_type": "code",
   "execution_count": 7,
   "metadata": {
    "scrolled": true
   },
   "outputs": [
    {
     "data": {
      "text/plain": [
       "PatientId          62299\n",
       "AppointmentID     110527\n",
       "Gender                 2\n",
       "ScheduledDay      103549\n",
       "AppointmentDay        27\n",
       "Age                  104\n",
       "Neighbourhood         81\n",
       "Scholarship            2\n",
       "Hipertension           2\n",
       "Diabetes               2\n",
       "Alcoholism             2\n",
       "Handcap                5\n",
       "SMS_received           2\n",
       "No-show                2\n",
       "dtype: int64"
      ]
     },
     "execution_count": 7,
     "metadata": {},
     "output_type": "execute_result"
    }
   ],
   "source": [
    "#View the number of unique values in each column\n",
    "data.nunique()"
   ]
  },
  {
   "cell_type": "code",
   "execution_count": 8,
   "metadata": {
    "scrolled": true
   },
   "outputs": [
    {
     "data": {
      "text/html": [
       "<div>\n",
       "<style scoped>\n",
       "    .dataframe tbody tr th:only-of-type {\n",
       "        vertical-align: middle;\n",
       "    }\n",
       "\n",
       "    .dataframe tbody tr th {\n",
       "        vertical-align: top;\n",
       "    }\n",
       "\n",
       "    .dataframe thead th {\n",
       "        text-align: right;\n",
       "    }\n",
       "</style>\n",
       "<table border=\"1\" class=\"dataframe\">\n",
       "  <thead>\n",
       "    <tr style=\"text-align: right;\">\n",
       "      <th></th>\n",
       "      <th>PatientId</th>\n",
       "      <th>AppointmentID</th>\n",
       "      <th>Age</th>\n",
       "      <th>Scholarship</th>\n",
       "      <th>Hipertension</th>\n",
       "      <th>Diabetes</th>\n",
       "      <th>Alcoholism</th>\n",
       "      <th>Handcap</th>\n",
       "      <th>SMS_received</th>\n",
       "    </tr>\n",
       "  </thead>\n",
       "  <tbody>\n",
       "    <tr>\n",
       "      <th>count</th>\n",
       "      <td>1.105270e+05</td>\n",
       "      <td>1.105270e+05</td>\n",
       "      <td>110527.000000</td>\n",
       "      <td>110527.000000</td>\n",
       "      <td>110527.000000</td>\n",
       "      <td>110527.000000</td>\n",
       "      <td>110527.000000</td>\n",
       "      <td>110527.000000</td>\n",
       "      <td>110527.000000</td>\n",
       "    </tr>\n",
       "    <tr>\n",
       "      <th>mean</th>\n",
       "      <td>1.474963e+14</td>\n",
       "      <td>5.675305e+06</td>\n",
       "      <td>37.088874</td>\n",
       "      <td>0.098266</td>\n",
       "      <td>0.197246</td>\n",
       "      <td>0.071865</td>\n",
       "      <td>0.030400</td>\n",
       "      <td>0.022248</td>\n",
       "      <td>0.321026</td>\n",
       "    </tr>\n",
       "    <tr>\n",
       "      <th>std</th>\n",
       "      <td>2.560949e+14</td>\n",
       "      <td>7.129575e+04</td>\n",
       "      <td>23.110205</td>\n",
       "      <td>0.297675</td>\n",
       "      <td>0.397921</td>\n",
       "      <td>0.258265</td>\n",
       "      <td>0.171686</td>\n",
       "      <td>0.161543</td>\n",
       "      <td>0.466873</td>\n",
       "    </tr>\n",
       "    <tr>\n",
       "      <th>min</th>\n",
       "      <td>3.921784e+04</td>\n",
       "      <td>5.030230e+06</td>\n",
       "      <td>-1.000000</td>\n",
       "      <td>0.000000</td>\n",
       "      <td>0.000000</td>\n",
       "      <td>0.000000</td>\n",
       "      <td>0.000000</td>\n",
       "      <td>0.000000</td>\n",
       "      <td>0.000000</td>\n",
       "    </tr>\n",
       "    <tr>\n",
       "      <th>25%</th>\n",
       "      <td>4.172614e+12</td>\n",
       "      <td>5.640286e+06</td>\n",
       "      <td>18.000000</td>\n",
       "      <td>0.000000</td>\n",
       "      <td>0.000000</td>\n",
       "      <td>0.000000</td>\n",
       "      <td>0.000000</td>\n",
       "      <td>0.000000</td>\n",
       "      <td>0.000000</td>\n",
       "    </tr>\n",
       "    <tr>\n",
       "      <th>50%</th>\n",
       "      <td>3.173184e+13</td>\n",
       "      <td>5.680573e+06</td>\n",
       "      <td>37.000000</td>\n",
       "      <td>0.000000</td>\n",
       "      <td>0.000000</td>\n",
       "      <td>0.000000</td>\n",
       "      <td>0.000000</td>\n",
       "      <td>0.000000</td>\n",
       "      <td>0.000000</td>\n",
       "    </tr>\n",
       "    <tr>\n",
       "      <th>75%</th>\n",
       "      <td>9.439172e+13</td>\n",
       "      <td>5.725524e+06</td>\n",
       "      <td>55.000000</td>\n",
       "      <td>0.000000</td>\n",
       "      <td>0.000000</td>\n",
       "      <td>0.000000</td>\n",
       "      <td>0.000000</td>\n",
       "      <td>0.000000</td>\n",
       "      <td>1.000000</td>\n",
       "    </tr>\n",
       "    <tr>\n",
       "      <th>max</th>\n",
       "      <td>9.999816e+14</td>\n",
       "      <td>5.790484e+06</td>\n",
       "      <td>115.000000</td>\n",
       "      <td>1.000000</td>\n",
       "      <td>1.000000</td>\n",
       "      <td>1.000000</td>\n",
       "      <td>1.000000</td>\n",
       "      <td>4.000000</td>\n",
       "      <td>1.000000</td>\n",
       "    </tr>\n",
       "  </tbody>\n",
       "</table>\n",
       "</div>"
      ],
      "text/plain": [
       "          PatientId  AppointmentID            Age    Scholarship  \\\n",
       "count  1.105270e+05   1.105270e+05  110527.000000  110527.000000   \n",
       "mean   1.474963e+14   5.675305e+06      37.088874       0.098266   \n",
       "std    2.560949e+14   7.129575e+04      23.110205       0.297675   \n",
       "min    3.921784e+04   5.030230e+06      -1.000000       0.000000   \n",
       "25%    4.172614e+12   5.640286e+06      18.000000       0.000000   \n",
       "50%    3.173184e+13   5.680573e+06      37.000000       0.000000   \n",
       "75%    9.439172e+13   5.725524e+06      55.000000       0.000000   \n",
       "max    9.999816e+14   5.790484e+06     115.000000       1.000000   \n",
       "\n",
       "        Hipertension       Diabetes     Alcoholism        Handcap  \\\n",
       "count  110527.000000  110527.000000  110527.000000  110527.000000   \n",
       "mean        0.197246       0.071865       0.030400       0.022248   \n",
       "std         0.397921       0.258265       0.171686       0.161543   \n",
       "min         0.000000       0.000000       0.000000       0.000000   \n",
       "25%         0.000000       0.000000       0.000000       0.000000   \n",
       "50%         0.000000       0.000000       0.000000       0.000000   \n",
       "75%         0.000000       0.000000       0.000000       0.000000   \n",
       "max         1.000000       1.000000       1.000000       4.000000   \n",
       "\n",
       "        SMS_received  \n",
       "count  110527.000000  \n",
       "mean        0.321026  \n",
       "std         0.466873  \n",
       "min         0.000000  \n",
       "25%         0.000000  \n",
       "50%         0.000000  \n",
       "75%         1.000000  \n",
       "max         1.000000  "
      ]
     },
     "execution_count": 8,
     "metadata": {},
     "output_type": "execute_result"
    }
   ],
   "source": [
    "#Get useful descriptive statistics for each column of the dataframe\n",
    "data.describe()"
   ]
  },
  {
   "cell_type": "markdown",
   "metadata": {},
   "source": [
    "- Less than 25% of patients received SMS reminders\n",
    "- Less than 25% of patients have hypertension\n",
    "- Less than 25% of patients have Diabetes\n",
    "- Less than 25% of patients are into Alcoholism\n",
    "\n",
    "Age Distribution of patients:\n",
    "- We have a total number of 110527 patients in the dataset \n",
    "- 25% of the 110527 patients are under 18 years old\n",
    "- 25% of the 110527 patients are over 55 years old\n",
    "- 37 years old is the average age of patients\n",
    "- We have a negative value as the minimum age (-1), this means that there are outliers in our dataset and such values need to be dropped.\n",
    "- 115 mis the maximum age in the dataset\n",
    "\n",
    "\"Handcap\" Column: (wrong spelling)\n",
    "- Less than 25% of patients are \"Handicapped\"\n",
    "- The Handcap column should be either 1 0r 0 but it has a maximum value of 4. We can infere that there are outliers in the Handcap column\n",
    "\n",
    "\"PatientId\" and \"AppointmentID\" should not be numerical columns"
   ]
  },
  {
   "cell_type": "code",
   "execution_count": 9,
   "metadata": {
    "scrolled": true
   },
   "outputs": [
    {
     "data": {
      "text/plain": [
       "PatientId         0\n",
       "AppointmentID     0\n",
       "Gender            0\n",
       "ScheduledDay      0\n",
       "AppointmentDay    0\n",
       "Age               0\n",
       "Neighbourhood     0\n",
       "Scholarship       0\n",
       "Hipertension      0\n",
       "Diabetes          0\n",
       "Alcoholism        0\n",
       "Handcap           0\n",
       "SMS_received      0\n",
       "No-show           0\n",
       "dtype: int64"
      ]
     },
     "execution_count": 9,
     "metadata": {},
     "output_type": "execute_result"
    }
   ],
   "source": [
    "#Check if there are missing values in each column of the dataframe\n",
    "data.isna().sum()"
   ]
  },
  {
   "cell_type": "markdown",
   "metadata": {},
   "source": [
    "There are no missing values in each column of the dataframe"
   ]
  },
  {
   "cell_type": "code",
   "execution_count": 10,
   "metadata": {},
   "outputs": [
    {
     "data": {
      "text/plain": [
       "0"
      ]
     },
     "execution_count": 10,
     "metadata": {},
     "output_type": "execute_result"
    }
   ],
   "source": [
    "#Check if there are any duplicate rows in the dataframe\n",
    "data.duplicated().sum()"
   ]
  },
  {
   "cell_type": "markdown",
   "metadata": {},
   "source": [
    "There are no duplicaterows in the dataset"
   ]
  },
  {
   "cell_type": "markdown",
   "metadata": {},
   "source": [
    "### Data Cleaning"
   ]
  },
  {
   "cell_type": "markdown",
   "metadata": {
    "collapsed": true
   },
   "source": [
    "**Rename the column names and correct spelling errors**\n",
    "\n",
    "Below, I will rename the column names and correcting spelling errors where necessary."
   ]
  },
  {
   "cell_type": "code",
   "execution_count": 11,
   "metadata": {
    "scrolled": false
   },
   "outputs": [
    {
     "data": {
      "text/html": [
       "<div>\n",
       "<style scoped>\n",
       "    .dataframe tbody tr th:only-of-type {\n",
       "        vertical-align: middle;\n",
       "    }\n",
       "\n",
       "    .dataframe tbody tr th {\n",
       "        vertical-align: top;\n",
       "    }\n",
       "\n",
       "    .dataframe thead th {\n",
       "        text-align: right;\n",
       "    }\n",
       "</style>\n",
       "<table border=\"1\" class=\"dataframe\">\n",
       "  <thead>\n",
       "    <tr style=\"text-align: right;\">\n",
       "      <th></th>\n",
       "      <th>Patient_ID</th>\n",
       "      <th>Appointment_ID</th>\n",
       "      <th>Gender</th>\n",
       "      <th>Scheduled_Day</th>\n",
       "      <th>Appointment_Day</th>\n",
       "      <th>Age</th>\n",
       "      <th>Neighbourhood</th>\n",
       "      <th>Scholarship</th>\n",
       "      <th>Hypertension</th>\n",
       "      <th>Diabetes</th>\n",
       "      <th>Alcoholism</th>\n",
       "      <th>Handicapped</th>\n",
       "      <th>SMS_received</th>\n",
       "      <th>No_show</th>\n",
       "    </tr>\n",
       "  </thead>\n",
       "  <tbody>\n",
       "    <tr>\n",
       "      <th>0</th>\n",
       "      <td>2.987250e+13</td>\n",
       "      <td>5642903</td>\n",
       "      <td>F</td>\n",
       "      <td>2016-04-29T18:38:08Z</td>\n",
       "      <td>2016-04-29T00:00:00Z</td>\n",
       "      <td>62</td>\n",
       "      <td>JARDIM DA PENHA</td>\n",
       "      <td>0</td>\n",
       "      <td>1</td>\n",
       "      <td>0</td>\n",
       "      <td>0</td>\n",
       "      <td>0</td>\n",
       "      <td>0</td>\n",
       "      <td>No</td>\n",
       "    </tr>\n",
       "    <tr>\n",
       "      <th>1</th>\n",
       "      <td>5.589978e+14</td>\n",
       "      <td>5642503</td>\n",
       "      <td>M</td>\n",
       "      <td>2016-04-29T16:08:27Z</td>\n",
       "      <td>2016-04-29T00:00:00Z</td>\n",
       "      <td>56</td>\n",
       "      <td>JARDIM DA PENHA</td>\n",
       "      <td>0</td>\n",
       "      <td>0</td>\n",
       "      <td>0</td>\n",
       "      <td>0</td>\n",
       "      <td>0</td>\n",
       "      <td>0</td>\n",
       "      <td>No</td>\n",
       "    </tr>\n",
       "    <tr>\n",
       "      <th>2</th>\n",
       "      <td>4.262962e+12</td>\n",
       "      <td>5642549</td>\n",
       "      <td>F</td>\n",
       "      <td>2016-04-29T16:19:04Z</td>\n",
       "      <td>2016-04-29T00:00:00Z</td>\n",
       "      <td>62</td>\n",
       "      <td>MATA DA PRAIA</td>\n",
       "      <td>0</td>\n",
       "      <td>0</td>\n",
       "      <td>0</td>\n",
       "      <td>0</td>\n",
       "      <td>0</td>\n",
       "      <td>0</td>\n",
       "      <td>No</td>\n",
       "    </tr>\n",
       "    <tr>\n",
       "      <th>3</th>\n",
       "      <td>8.679512e+11</td>\n",
       "      <td>5642828</td>\n",
       "      <td>F</td>\n",
       "      <td>2016-04-29T17:29:31Z</td>\n",
       "      <td>2016-04-29T00:00:00Z</td>\n",
       "      <td>8</td>\n",
       "      <td>PONTAL DE CAMBURI</td>\n",
       "      <td>0</td>\n",
       "      <td>0</td>\n",
       "      <td>0</td>\n",
       "      <td>0</td>\n",
       "      <td>0</td>\n",
       "      <td>0</td>\n",
       "      <td>No</td>\n",
       "    </tr>\n",
       "    <tr>\n",
       "      <th>4</th>\n",
       "      <td>8.841186e+12</td>\n",
       "      <td>5642494</td>\n",
       "      <td>F</td>\n",
       "      <td>2016-04-29T16:07:23Z</td>\n",
       "      <td>2016-04-29T00:00:00Z</td>\n",
       "      <td>56</td>\n",
       "      <td>JARDIM DA PENHA</td>\n",
       "      <td>0</td>\n",
       "      <td>1</td>\n",
       "      <td>1</td>\n",
       "      <td>0</td>\n",
       "      <td>0</td>\n",
       "      <td>0</td>\n",
       "      <td>No</td>\n",
       "    </tr>\n",
       "    <tr>\n",
       "      <th>...</th>\n",
       "      <td>...</td>\n",
       "      <td>...</td>\n",
       "      <td>...</td>\n",
       "      <td>...</td>\n",
       "      <td>...</td>\n",
       "      <td>...</td>\n",
       "      <td>...</td>\n",
       "      <td>...</td>\n",
       "      <td>...</td>\n",
       "      <td>...</td>\n",
       "      <td>...</td>\n",
       "      <td>...</td>\n",
       "      <td>...</td>\n",
       "      <td>...</td>\n",
       "    </tr>\n",
       "    <tr>\n",
       "      <th>110522</th>\n",
       "      <td>2.572134e+12</td>\n",
       "      <td>5651768</td>\n",
       "      <td>F</td>\n",
       "      <td>2016-05-03T09:15:35Z</td>\n",
       "      <td>2016-06-07T00:00:00Z</td>\n",
       "      <td>56</td>\n",
       "      <td>MARIA ORTIZ</td>\n",
       "      <td>0</td>\n",
       "      <td>0</td>\n",
       "      <td>0</td>\n",
       "      <td>0</td>\n",
       "      <td>0</td>\n",
       "      <td>1</td>\n",
       "      <td>No</td>\n",
       "    </tr>\n",
       "    <tr>\n",
       "      <th>110523</th>\n",
       "      <td>3.596266e+12</td>\n",
       "      <td>5650093</td>\n",
       "      <td>F</td>\n",
       "      <td>2016-05-03T07:27:33Z</td>\n",
       "      <td>2016-06-07T00:00:00Z</td>\n",
       "      <td>51</td>\n",
       "      <td>MARIA ORTIZ</td>\n",
       "      <td>0</td>\n",
       "      <td>0</td>\n",
       "      <td>0</td>\n",
       "      <td>0</td>\n",
       "      <td>0</td>\n",
       "      <td>1</td>\n",
       "      <td>No</td>\n",
       "    </tr>\n",
       "    <tr>\n",
       "      <th>110524</th>\n",
       "      <td>1.557663e+13</td>\n",
       "      <td>5630692</td>\n",
       "      <td>F</td>\n",
       "      <td>2016-04-27T16:03:52Z</td>\n",
       "      <td>2016-06-07T00:00:00Z</td>\n",
       "      <td>21</td>\n",
       "      <td>MARIA ORTIZ</td>\n",
       "      <td>0</td>\n",
       "      <td>0</td>\n",
       "      <td>0</td>\n",
       "      <td>0</td>\n",
       "      <td>0</td>\n",
       "      <td>1</td>\n",
       "      <td>No</td>\n",
       "    </tr>\n",
       "    <tr>\n",
       "      <th>110525</th>\n",
       "      <td>9.213493e+13</td>\n",
       "      <td>5630323</td>\n",
       "      <td>F</td>\n",
       "      <td>2016-04-27T15:09:23Z</td>\n",
       "      <td>2016-06-07T00:00:00Z</td>\n",
       "      <td>38</td>\n",
       "      <td>MARIA ORTIZ</td>\n",
       "      <td>0</td>\n",
       "      <td>0</td>\n",
       "      <td>0</td>\n",
       "      <td>0</td>\n",
       "      <td>0</td>\n",
       "      <td>1</td>\n",
       "      <td>No</td>\n",
       "    </tr>\n",
       "    <tr>\n",
       "      <th>110526</th>\n",
       "      <td>3.775115e+14</td>\n",
       "      <td>5629448</td>\n",
       "      <td>F</td>\n",
       "      <td>2016-04-27T13:30:56Z</td>\n",
       "      <td>2016-06-07T00:00:00Z</td>\n",
       "      <td>54</td>\n",
       "      <td>MARIA ORTIZ</td>\n",
       "      <td>0</td>\n",
       "      <td>0</td>\n",
       "      <td>0</td>\n",
       "      <td>0</td>\n",
       "      <td>0</td>\n",
       "      <td>1</td>\n",
       "      <td>No</td>\n",
       "    </tr>\n",
       "  </tbody>\n",
       "</table>\n",
       "<p>110527 rows × 14 columns</p>\n",
       "</div>"
      ],
      "text/plain": [
       "          Patient_ID  Appointment_ID Gender         Scheduled_Day  \\\n",
       "0       2.987250e+13         5642903      F  2016-04-29T18:38:08Z   \n",
       "1       5.589978e+14         5642503      M  2016-04-29T16:08:27Z   \n",
       "2       4.262962e+12         5642549      F  2016-04-29T16:19:04Z   \n",
       "3       8.679512e+11         5642828      F  2016-04-29T17:29:31Z   \n",
       "4       8.841186e+12         5642494      F  2016-04-29T16:07:23Z   \n",
       "...              ...             ...    ...                   ...   \n",
       "110522  2.572134e+12         5651768      F  2016-05-03T09:15:35Z   \n",
       "110523  3.596266e+12         5650093      F  2016-05-03T07:27:33Z   \n",
       "110524  1.557663e+13         5630692      F  2016-04-27T16:03:52Z   \n",
       "110525  9.213493e+13         5630323      F  2016-04-27T15:09:23Z   \n",
       "110526  3.775115e+14         5629448      F  2016-04-27T13:30:56Z   \n",
       "\n",
       "             Appointment_Day  Age      Neighbourhood  Scholarship  \\\n",
       "0       2016-04-29T00:00:00Z   62    JARDIM DA PENHA            0   \n",
       "1       2016-04-29T00:00:00Z   56    JARDIM DA PENHA            0   \n",
       "2       2016-04-29T00:00:00Z   62      MATA DA PRAIA            0   \n",
       "3       2016-04-29T00:00:00Z    8  PONTAL DE CAMBURI            0   \n",
       "4       2016-04-29T00:00:00Z   56    JARDIM DA PENHA            0   \n",
       "...                      ...  ...                ...          ...   \n",
       "110522  2016-06-07T00:00:00Z   56        MARIA ORTIZ            0   \n",
       "110523  2016-06-07T00:00:00Z   51        MARIA ORTIZ            0   \n",
       "110524  2016-06-07T00:00:00Z   21        MARIA ORTIZ            0   \n",
       "110525  2016-06-07T00:00:00Z   38        MARIA ORTIZ            0   \n",
       "110526  2016-06-07T00:00:00Z   54        MARIA ORTIZ            0   \n",
       "\n",
       "        Hypertension  Diabetes  Alcoholism  Handicapped  SMS_received No_show  \n",
       "0                  1         0           0            0             0      No  \n",
       "1                  0         0           0            0             0      No  \n",
       "2                  0         0           0            0             0      No  \n",
       "3                  0         0           0            0             0      No  \n",
       "4                  1         1           0            0             0      No  \n",
       "...              ...       ...         ...          ...           ...     ...  \n",
       "110522             0         0           0            0             1      No  \n",
       "110523             0         0           0            0             1      No  \n",
       "110524             0         0           0            0             1      No  \n",
       "110525             0         0           0            0             1      No  \n",
       "110526             0         0           0            0             1      No  \n",
       "\n",
       "[110527 rows x 14 columns]"
      ]
     },
     "execution_count": 11,
     "metadata": {},
     "output_type": "execute_result"
    }
   ],
   "source": [
    "#rename columns\n",
    "data.rename(columns = {'No-show':'No_show', 'Hipertension':'Hypertension', 'PatientId':'Patient_ID',\n",
    "                       'AppointmentID':'Appointment_ID', 'ScheduledDay':'Scheduled_Day', 'AppointmentDay':'Appointment_Day', 'Handcap':'Handicapped'}, inplace = True)\n",
    "data"
   ]
  },
  {
   "cell_type": "markdown",
   "metadata": {},
   "source": [
    "**During the data assessment stage, i noticed some columns were in the wrong data format. Hence, i will go ahead to correct the data types of the following columns**\n",
    "- PatientId \n",
    "- AppointmentID \n",
    "- ScheduledDay \n",
    "- AppointmentDay"
   ]
  },
  {
   "cell_type": "code",
   "execution_count": 12,
   "metadata": {},
   "outputs": [
    {
     "data": {
      "text/plain": [
       "Patient_ID         object\n",
       "Appointment_ID     object\n",
       "Gender             object\n",
       "Scheduled_Day      object\n",
       "Appointment_Day    object\n",
       "Age                 int64\n",
       "Neighbourhood      object\n",
       "Scholarship         int64\n",
       "Hypertension        int64\n",
       "Diabetes            int64\n",
       "Alcoholism          int64\n",
       "Handicapped         int64\n",
       "SMS_received        int64\n",
       "No_show            object\n",
       "dtype: object"
      ]
     },
     "execution_count": 12,
     "metadata": {},
     "output_type": "execute_result"
    }
   ],
   "source": [
    "#Convert from numerical data type to strings\n",
    "data = data.astype({\"Patient_ID\": str})\n",
    "data = data.astype({\"Appointment_ID\": str})\n",
    "data.dtypes"
   ]
  },
  {
   "cell_type": "markdown",
   "metadata": {},
   "source": [
    "Parent_ID and Appointment_ID columns have now been converted from numerical datatype to string (object) data type."
   ]
  },
  {
   "cell_type": "code",
   "execution_count": 13,
   "metadata": {},
   "outputs": [
    {
     "data": {
      "text/plain": [
       "Patient_ID                      object\n",
       "Appointment_ID                  object\n",
       "Gender                          object\n",
       "Scheduled_Day      datetime64[ns, UTC]\n",
       "Appointment_Day    datetime64[ns, UTC]\n",
       "Age                              int64\n",
       "Neighbourhood                   object\n",
       "Scholarship                      int64\n",
       "Hypertension                     int64\n",
       "Diabetes                         int64\n",
       "Alcoholism                       int64\n",
       "Handicapped                      int64\n",
       "SMS_received                     int64\n",
       "No_show                         object\n",
       "dtype: object"
      ]
     },
     "execution_count": 13,
     "metadata": {},
     "output_type": "execute_result"
    }
   ],
   "source": [
    "#convert from string data type todatetime format\n",
    "data['Scheduled_Day']= pd.to_datetime(data['Scheduled_Day'])\n",
    "data['Appointment_Day']= pd.to_datetime(data['Appointment_Day'])\n",
    "data.dtypes"
   ]
  },
  {
   "cell_type": "markdown",
   "metadata": {},
   "source": [
    "Scheduled_Day and Appointment_Day columns have now been converted from object (string) data type to datetime data type."
   ]
  },
  {
   "cell_type": "markdown",
   "metadata": {},
   "source": [
    "**Let's have a further look at the Age column in the dataframe. Are there any outliers?**\n",
    "\n",
    "**Univariate analysis on the Age variable:** An Histogram will be plotted below to display the age distribution of patients in the dataset."
   ]
  },
  {
   "cell_type": "code",
   "execution_count": 14,
   "metadata": {},
   "outputs": [
    {
     "data": {
      "image/png": "[encoded data removed]",
      "text/plain": [
       "<Figure size 432x288 with 1 Axes>"
      ]
     },
     "metadata": {
      "needs_background": "light"
     },
     "output_type": "display_data"
    }
   ],
   "source": [
    "#plot histogram for univariate analysis where\n",
    "sns.histplot(x = data['Age'], bins = 10, color = 'b')\n",
    "plt.xlabel(\"Patients' Age\")\n",
    "plt.ylabel(\"Number of Patients\")\n",
    "plt.title('Age Distribution Of Patients')\n",
    "plt.show()"
   ]
  },
  {
   "cell_type": "markdown",
   "metadata": {},
   "source": [
    "**The histogram shows that the minimum age in the dataset is less than zero (0) and the maximum age is greater than 100 years**. This means that we have a negative value in our dataset."
   ]
  },
  {
   "cell_type": "code",
   "execution_count": 15,
   "metadata": {},
   "outputs": [
    {
     "data": {
      "text/plain": [
       "count    110527.000000\n",
       "mean         37.088874\n",
       "std          23.110205\n",
       "min          -1.000000\n",
       "25%          18.000000\n",
       "50%          37.000000\n",
       "75%          55.000000\n",
       "max         115.000000\n",
       "Name: Age, dtype: float64"
      ]
     },
     "execution_count": 15,
     "metadata": {},
     "output_type": "execute_result"
    }
   ],
   "source": [
    "data['Age'].describe()"
   ]
  },
  {
   "cell_type": "markdown",
   "metadata": {},
   "source": [
    "Age Distribution of patients:\n",
    "- We have a total number of 110527 patients in the dataframe \n",
    "- 25% of the 110527 patients are under 18 years old\n",
    "- 25% of the 110527 patients are over 55 years old\n",
    "- 37 years old is the average age of patients\n",
    "- We have a negative value as the minimum age (-1), this means that there are outliers in our dataset and such values need to be dropped.\n",
    "- 115 mis the maximum age in the dataframe"
   ]
  },
  {
   "cell_type": "markdown",
   "metadata": {},
   "source": [
    "**Remove outliers in the \"Age\" column and create a new dataframe called \"Data_Cleaned\"**\n",
    "\n",
    "**Reason: This is due to the fact that we have a negative value as the minimum age (-1). This is wrong logically as the human age starts from 1 year old.\n",
    "This also means that there are outliers in our dataset and such values need to be dropped.**\n",
    "\n",
    "I will proceed to remove rows containing ages that are less than 1 year old in the dataet below. "
   ]
  },
  {
   "cell_type": "code",
   "execution_count": 16,
   "metadata": {
    "scrolled": true
   },
   "outputs": [
    {
     "data": {
      "text/html": [
       "<div>\n",
       "<style scoped>\n",
       "    .dataframe tbody tr th:only-of-type {\n",
       "        vertical-align: middle;\n",
       "    }\n",
       "\n",
       "    .dataframe tbody tr th {\n",
       "        vertical-align: top;\n",
       "    }\n",
       "\n",
       "    .dataframe thead th {\n",
       "        text-align: right;\n",
       "    }\n",
       "</style>\n",
       "<table border=\"1\" class=\"dataframe\">\n",
       "  <thead>\n",
       "    <tr style=\"text-align: right;\">\n",
       "      <th></th>\n",
       "      <th>Patient_ID</th>\n",
       "      <th>Appointment_ID</th>\n",
       "      <th>Gender</th>\n",
       "      <th>Scheduled_Day</th>\n",
       "      <th>Appointment_Day</th>\n",
       "      <th>Age</th>\n",
       "      <th>Neighbourhood</th>\n",
       "      <th>Scholarship</th>\n",
       "      <th>Hypertension</th>\n",
       "      <th>Diabetes</th>\n",
       "      <th>Alcoholism</th>\n",
       "      <th>Handicapped</th>\n",
       "      <th>SMS_received</th>\n",
       "      <th>No_show</th>\n",
       "    </tr>\n",
       "  </thead>\n",
       "  <tbody>\n",
       "    <tr>\n",
       "      <th>0</th>\n",
       "      <td>29872499824296.0</td>\n",
       "      <td>5642903</td>\n",
       "      <td>F</td>\n",
       "      <td>2016-04-29 18:38:08+00:00</td>\n",
       "      <td>2016-04-29 00:00:00+00:00</td>\n",
       "      <td>62</td>\n",
       "      <td>JARDIM DA PENHA</td>\n",
       "      <td>0</td>\n",
       "      <td>1</td>\n",
       "      <td>0</td>\n",
       "      <td>0</td>\n",
       "      <td>0</td>\n",
       "      <td>0</td>\n",
       "      <td>No</td>\n",
       "    </tr>\n",
       "    <tr>\n",
       "      <th>1</th>\n",
       "      <td>558997776694438.0</td>\n",
       "      <td>5642503</td>\n",
       "      <td>M</td>\n",
       "      <td>2016-04-29 16:08:27+00:00</td>\n",
       "      <td>2016-04-29 00:00:00+00:00</td>\n",
       "      <td>56</td>\n",
       "      <td>JARDIM DA PENHA</td>\n",
       "      <td>0</td>\n",
       "      <td>0</td>\n",
       "      <td>0</td>\n",
       "      <td>0</td>\n",
       "      <td>0</td>\n",
       "      <td>0</td>\n",
       "      <td>No</td>\n",
       "    </tr>\n",
       "    <tr>\n",
       "      <th>2</th>\n",
       "      <td>4262962299951.0</td>\n",
       "      <td>5642549</td>\n",
       "      <td>F</td>\n",
       "      <td>2016-04-29 16:19:04+00:00</td>\n",
       "      <td>2016-04-29 00:00:00+00:00</td>\n",
       "      <td>62</td>\n",
       "      <td>MATA DA PRAIA</td>\n",
       "      <td>0</td>\n",
       "      <td>0</td>\n",
       "      <td>0</td>\n",
       "      <td>0</td>\n",
       "      <td>0</td>\n",
       "      <td>0</td>\n",
       "      <td>No</td>\n",
       "    </tr>\n",
       "    <tr>\n",
       "      <th>3</th>\n",
       "      <td>867951213174.0</td>\n",
       "      <td>5642828</td>\n",
       "      <td>F</td>\n",
       "      <td>2016-04-29 17:29:31+00:00</td>\n",
       "      <td>2016-04-29 00:00:00+00:00</td>\n",
       "      <td>8</td>\n",
       "      <td>PONTAL DE CAMBURI</td>\n",
       "      <td>0</td>\n",
       "      <td>0</td>\n",
       "      <td>0</td>\n",
       "      <td>0</td>\n",
       "      <td>0</td>\n",
       "      <td>0</td>\n",
       "      <td>No</td>\n",
       "    </tr>\n",
       "    <tr>\n",
       "      <th>4</th>\n",
       "      <td>8841186448183.0</td>\n",
       "      <td>5642494</td>\n",
       "      <td>F</td>\n",
       "      <td>2016-04-29 16:07:23+00:00</td>\n",
       "      <td>2016-04-29 00:00:00+00:00</td>\n",
       "      <td>56</td>\n",
       "      <td>JARDIM DA PENHA</td>\n",
       "      <td>0</td>\n",
       "      <td>1</td>\n",
       "      <td>1</td>\n",
       "      <td>0</td>\n",
       "      <td>0</td>\n",
       "      <td>0</td>\n",
       "      <td>No</td>\n",
       "    </tr>\n",
       "    <tr>\n",
       "      <th>...</th>\n",
       "      <td>...</td>\n",
       "      <td>...</td>\n",
       "      <td>...</td>\n",
       "      <td>...</td>\n",
       "      <td>...</td>\n",
       "      <td>...</td>\n",
       "      <td>...</td>\n",
       "      <td>...</td>\n",
       "      <td>...</td>\n",
       "      <td>...</td>\n",
       "      <td>...</td>\n",
       "      <td>...</td>\n",
       "      <td>...</td>\n",
       "      <td>...</td>\n",
       "    </tr>\n",
       "    <tr>\n",
       "      <th>110522</th>\n",
       "      <td>2572134369293.0</td>\n",
       "      <td>5651768</td>\n",
       "      <td>F</td>\n",
       "      <td>2016-05-03 09:15:35+00:00</td>\n",
       "      <td>2016-06-07 00:00:00+00:00</td>\n",
       "      <td>56</td>\n",
       "      <td>MARIA ORTIZ</td>\n",
       "      <td>0</td>\n",
       "      <td>0</td>\n",
       "      <td>0</td>\n",
       "      <td>0</td>\n",
       "      <td>0</td>\n",
       "      <td>1</td>\n",
       "      <td>No</td>\n",
       "    </tr>\n",
       "    <tr>\n",
       "      <th>110523</th>\n",
       "      <td>3596266328735.0</td>\n",
       "      <td>5650093</td>\n",
       "      <td>F</td>\n",
       "      <td>2016-05-03 07:27:33+00:00</td>\n",
       "      <td>2016-06-07 00:00:00+00:00</td>\n",
       "      <td>51</td>\n",
       "      <td>MARIA ORTIZ</td>\n",
       "      <td>0</td>\n",
       "      <td>0</td>\n",
       "      <td>0</td>\n",
       "      <td>0</td>\n",
       "      <td>0</td>\n",
       "      <td>1</td>\n",
       "      <td>No</td>\n",
       "    </tr>\n",
       "    <tr>\n",
       "      <th>110524</th>\n",
       "      <td>15576631729893.0</td>\n",
       "      <td>5630692</td>\n",
       "      <td>F</td>\n",
       "      <td>2016-04-27 16:03:52+00:00</td>\n",
       "      <td>2016-06-07 00:00:00+00:00</td>\n",
       "      <td>21</td>\n",
       "      <td>MARIA ORTIZ</td>\n",
       "      <td>0</td>\n",
       "      <td>0</td>\n",
       "      <td>0</td>\n",
       "      <td>0</td>\n",
       "      <td>0</td>\n",
       "      <td>1</td>\n",
       "      <td>No</td>\n",
       "    </tr>\n",
       "    <tr>\n",
       "      <th>110525</th>\n",
       "      <td>92134931435557.0</td>\n",
       "      <td>5630323</td>\n",
       "      <td>F</td>\n",
       "      <td>2016-04-27 15:09:23+00:00</td>\n",
       "      <td>2016-06-07 00:00:00+00:00</td>\n",
       "      <td>38</td>\n",
       "      <td>MARIA ORTIZ</td>\n",
       "      <td>0</td>\n",
       "      <td>0</td>\n",
       "      <td>0</td>\n",
       "      <td>0</td>\n",
       "      <td>0</td>\n",
       "      <td>1</td>\n",
       "      <td>No</td>\n",
       "    </tr>\n",
       "    <tr>\n",
       "      <th>110526</th>\n",
       "      <td>377511518121127.0</td>\n",
       "      <td>5629448</td>\n",
       "      <td>F</td>\n",
       "      <td>2016-04-27 13:30:56+00:00</td>\n",
       "      <td>2016-06-07 00:00:00+00:00</td>\n",
       "      <td>54</td>\n",
       "      <td>MARIA ORTIZ</td>\n",
       "      <td>0</td>\n",
       "      <td>0</td>\n",
       "      <td>0</td>\n",
       "      <td>0</td>\n",
       "      <td>0</td>\n",
       "      <td>1</td>\n",
       "      <td>No</td>\n",
       "    </tr>\n",
       "  </tbody>\n",
       "</table>\n",
       "<p>104714 rows × 14 columns</p>\n",
       "</div>"
      ],
      "text/plain": [
       "               Patient_ID Appointment_ID Gender             Scheduled_Day  \\\n",
       "0        29872499824296.0        5642903      F 2016-04-29 18:38:08+00:00   \n",
       "1       558997776694438.0        5642503      M 2016-04-29 16:08:27+00:00   \n",
       "2         4262962299951.0        5642549      F 2016-04-29 16:19:04+00:00   \n",
       "3          867951213174.0        5642828      F 2016-04-29 17:29:31+00:00   \n",
       "4         8841186448183.0        5642494      F 2016-04-29 16:07:23+00:00   \n",
       "...                   ...            ...    ...                       ...   \n",
       "110522    2572134369293.0        5651768      F 2016-05-03 09:15:35+00:00   \n",
       "110523    3596266328735.0        5650093      F 2016-05-03 07:27:33+00:00   \n",
       "110524   15576631729893.0        5630692      F 2016-04-27 16:03:52+00:00   \n",
       "110525   92134931435557.0        5630323      F 2016-04-27 15:09:23+00:00   \n",
       "110526  377511518121127.0        5629448      F 2016-04-27 13:30:56+00:00   \n",
       "\n",
       "                 Appointment_Day  Age      Neighbourhood  Scholarship  \\\n",
       "0      2016-04-29 00:00:00+00:00   62    JARDIM DA PENHA            0   \n",
       "1      2016-04-29 00:00:00+00:00   56    JARDIM DA PENHA            0   \n",
       "2      2016-04-29 00:00:00+00:00   62      MATA DA PRAIA            0   \n",
       "3      2016-04-29 00:00:00+00:00    8  PONTAL DE CAMBURI            0   \n",
       "4      2016-04-29 00:00:00+00:00   56    JARDIM DA PENHA            0   \n",
       "...                          ...  ...                ...          ...   \n",
       "110522 2016-06-07 00:00:00+00:00   56        MARIA ORTIZ            0   \n",
       "110523 2016-06-07 00:00:00+00:00   51        MARIA ORTIZ            0   \n",
       "110524 2016-06-07 00:00:00+00:00   21        MARIA ORTIZ            0   \n",
       "110525 2016-06-07 00:00:00+00:00   38        MARIA ORTIZ            0   \n",
       "110526 2016-06-07 00:00:00+00:00   54        MARIA ORTIZ            0   \n",
       "\n",
       "        Hypertension  Diabetes  Alcoholism  Handicapped  SMS_received No_show  \n",
       "0                  1         0           0            0             0      No  \n",
       "1                  0         0           0            0             0      No  \n",
       "2                  0         0           0            0             0      No  \n",
       "3                  0         0           0            0             0      No  \n",
       "4                  1         1           0            0             0      No  \n",
       "...              ...       ...         ...          ...           ...     ...  \n",
       "110522             0         0           0            0             1      No  \n",
       "110523             0         0           0            0             1      No  \n",
       "110524             0         0           0            0             1      No  \n",
       "110525             0         0           0            0             1      No  \n",
       "110526             0         0           0            0             1      No  \n",
       "\n",
       "[104714 rows x 14 columns]"
      ]
     },
     "execution_count": 16,
     "metadata": {},
     "output_type": "execute_result"
    }
   ],
   "source": [
    "#Create a new variable\n",
    "data_cleaned = data[data['Age'] >1]\n",
    "data_cleaned"
   ]
  },
  {
   "cell_type": "markdown",
   "metadata": {},
   "source": [
    "A new dataset called \"data_cleaned\" has now been created after removing the outliers"
   ]
  },
  {
   "cell_type": "code",
   "execution_count": 17,
   "metadata": {},
   "outputs": [
    {
     "data": {
      "text/plain": [
       "count    104714.000000\n",
       "mean         39.126096\n",
       "std          22.018268\n",
       "min           2.000000\n",
       "25%          21.000000\n",
       "50%          39.000000\n",
       "75%          56.000000\n",
       "max         115.000000\n",
       "Name: Age, dtype: float64"
      ]
     },
     "execution_count": 17,
     "metadata": {},
     "output_type": "execute_result"
    }
   ],
   "source": [
    "data_cleaned['Age'].describe()"
   ]
  },
  {
   "cell_type": "markdown",
   "metadata": {},
   "source": [
    "After removing the rows containing ages less than 1 in the age column, we now have the following:\n",
    "- A total number of 104714 patients in the dataframe \n",
    "- 25% of the 104714 patients are under 21 years old\n",
    "- 25% of the 104714 patients are over 56 years old\n",
    "- 39 years old is the average age of patients\n",
    "- 2 years old is the minimum age in the dataframe\n",
    "- 115 years old is the maximum age in the dataframe"
   ]
  },
  {
   "cell_type": "markdown",
   "metadata": {},
   "source": [
    "**Get useful descriptive statistics for each column in the newly cleaned dataframe (data_cleaned)**"
   ]
  },
  {
   "cell_type": "code",
   "execution_count": 18,
   "metadata": {},
   "outputs": [
    {
     "data": {
      "text/html": [
       "<div>\n",
       "<style scoped>\n",
       "    .dataframe tbody tr th:only-of-type {\n",
       "        vertical-align: middle;\n",
       "    }\n",
       "\n",
       "    .dataframe tbody tr th {\n",
       "        vertical-align: top;\n",
       "    }\n",
       "\n",
       "    .dataframe thead th {\n",
       "        text-align: right;\n",
       "    }\n",
       "</style>\n",
       "<table border=\"1\" class=\"dataframe\">\n",
       "  <thead>\n",
       "    <tr style=\"text-align: right;\">\n",
       "      <th></th>\n",
       "      <th>Age</th>\n",
       "      <th>Scholarship</th>\n",
       "      <th>Hypertension</th>\n",
       "      <th>Diabetes</th>\n",
       "      <th>Alcoholism</th>\n",
       "      <th>Handicapped</th>\n",
       "      <th>SMS_received</th>\n",
       "    </tr>\n",
       "  </thead>\n",
       "  <tbody>\n",
       "    <tr>\n",
       "      <th>count</th>\n",
       "      <td>104714.000000</td>\n",
       "      <td>104714.000000</td>\n",
       "      <td>104714.000000</td>\n",
       "      <td>104714.000000</td>\n",
       "      <td>104714.000000</td>\n",
       "      <td>104714.000000</td>\n",
       "      <td>104714.000000</td>\n",
       "    </tr>\n",
       "    <tr>\n",
       "      <th>mean</th>\n",
       "      <td>39.126096</td>\n",
       "      <td>0.102441</td>\n",
       "      <td>0.208196</td>\n",
       "      <td>0.075845</td>\n",
       "      <td>0.032087</td>\n",
       "      <td>0.023464</td>\n",
       "      <td>0.324875</td>\n",
       "    </tr>\n",
       "    <tr>\n",
       "      <th>std</th>\n",
       "      <td>22.018268</td>\n",
       "      <td>0.303229</td>\n",
       "      <td>0.406019</td>\n",
       "      <td>0.264751</td>\n",
       "      <td>0.176233</td>\n",
       "      <td>0.165824</td>\n",
       "      <td>0.468331</td>\n",
       "    </tr>\n",
       "    <tr>\n",
       "      <th>min</th>\n",
       "      <td>2.000000</td>\n",
       "      <td>0.000000</td>\n",
       "      <td>0.000000</td>\n",
       "      <td>0.000000</td>\n",
       "      <td>0.000000</td>\n",
       "      <td>0.000000</td>\n",
       "      <td>0.000000</td>\n",
       "    </tr>\n",
       "    <tr>\n",
       "      <th>25%</th>\n",
       "      <td>21.000000</td>\n",
       "      <td>0.000000</td>\n",
       "      <td>0.000000</td>\n",
       "      <td>0.000000</td>\n",
       "      <td>0.000000</td>\n",
       "      <td>0.000000</td>\n",
       "      <td>0.000000</td>\n",
       "    </tr>\n",
       "    <tr>\n",
       "      <th>50%</th>\n",
       "      <td>39.000000</td>\n",
       "      <td>0.000000</td>\n",
       "      <td>0.000000</td>\n",
       "      <td>0.000000</td>\n",
       "      <td>0.000000</td>\n",
       "      <td>0.000000</td>\n",
       "      <td>0.000000</td>\n",
       "    </tr>\n",
       "    <tr>\n",
       "      <th>75%</th>\n",
       "      <td>56.000000</td>\n",
       "      <td>0.000000</td>\n",
       "      <td>0.000000</td>\n",
       "      <td>0.000000</td>\n",
       "      <td>0.000000</td>\n",
       "      <td>0.000000</td>\n",
       "      <td>1.000000</td>\n",
       "    </tr>\n",
       "    <tr>\n",
       "      <th>max</th>\n",
       "      <td>115.000000</td>\n",
       "      <td>1.000000</td>\n",
       "      <td>1.000000</td>\n",
       "      <td>1.000000</td>\n",
       "      <td>1.000000</td>\n",
       "      <td>4.000000</td>\n",
       "      <td>1.000000</td>\n",
       "    </tr>\n",
       "  </tbody>\n",
       "</table>\n",
       "</div>"
      ],
      "text/plain": [
       "                 Age    Scholarship   Hypertension       Diabetes  \\\n",
       "count  104714.000000  104714.000000  104714.000000  104714.000000   \n",
       "mean       39.126096       0.102441       0.208196       0.075845   \n",
       "std        22.018268       0.303229       0.406019       0.264751   \n",
       "min         2.000000       0.000000       0.000000       0.000000   \n",
       "25%        21.000000       0.000000       0.000000       0.000000   \n",
       "50%        39.000000       0.000000       0.000000       0.000000   \n",
       "75%        56.000000       0.000000       0.000000       0.000000   \n",
       "max       115.000000       1.000000       1.000000       1.000000   \n",
       "\n",
       "          Alcoholism    Handicapped   SMS_received  \n",
       "count  104714.000000  104714.000000  104714.000000  \n",
       "mean        0.032087       0.023464       0.324875  \n",
       "std         0.176233       0.165824       0.468331  \n",
       "min         0.000000       0.000000       0.000000  \n",
       "25%         0.000000       0.000000       0.000000  \n",
       "50%         0.000000       0.000000       0.000000  \n",
       "75%         0.000000       0.000000       1.000000  \n",
       "max         1.000000       4.000000       1.000000  "
      ]
     },
     "execution_count": 18,
     "metadata": {},
     "output_type": "execute_result"
    }
   ],
   "source": [
    "data_cleaned.describe()"
   ]
  },
  {
   "cell_type": "markdown",
   "metadata": {},
   "source": [
    "**The descriptive statistics above shows that the Handicapped column has a maximum value of 4 unlike the other boolean columns which all have 1 as their maximum value. Let's have a further look into the Handicapped column by getting a list of the unique values in the column.**"
   ]
  },
  {
   "cell_type": "code",
   "execution_count": 19,
   "metadata": {},
   "outputs": [
    {
     "data": {
      "text/plain": [
       "[0, 1, 2, 3, 4]"
      ]
     },
     "execution_count": 19,
     "metadata": {},
     "output_type": "execute_result"
    }
   ],
   "source": [
    "list(data['Handicapped'].unique()) "
   ]
  },
  {
   "cell_type": "markdown",
   "metadata": {},
   "source": [
    "From the cell above, we can see that there are 5 unique values in the Handicapped column."
   ]
  },
  {
   "cell_type": "markdown",
   "metadata": {},
   "source": [
    "**Remove the outliers from \"Handicapped\" column**\n",
    "\n",
    "**Reason**: The Handicapped column is supposed to be a boolean column interpreting True (1) or False (0) but we currently have 5 unique values in the column. Therefore, we will be removing the values that are NOT less than or equal to 1"
   ]
  },
  {
   "cell_type": "code",
   "execution_count": 20,
   "metadata": {
    "scrolled": true
   },
   "outputs": [
    {
     "data": {
      "text/html": [
       "<div>\n",
       "<style scoped>\n",
       "    .dataframe tbody tr th:only-of-type {\n",
       "        vertical-align: middle;\n",
       "    }\n",
       "\n",
       "    .dataframe tbody tr th {\n",
       "        vertical-align: top;\n",
       "    }\n",
       "\n",
       "    .dataframe thead th {\n",
       "        text-align: right;\n",
       "    }\n",
       "</style>\n",
       "<table border=\"1\" class=\"dataframe\">\n",
       "  <thead>\n",
       "    <tr style=\"text-align: right;\">\n",
       "      <th></th>\n",
       "      <th>Patient_ID</th>\n",
       "      <th>Appointment_ID</th>\n",
       "      <th>Gender</th>\n",
       "      <th>Scheduled_Day</th>\n",
       "      <th>Appointment_Day</th>\n",
       "      <th>Age</th>\n",
       "      <th>Neighbourhood</th>\n",
       "      <th>Scholarship</th>\n",
       "      <th>Hypertension</th>\n",
       "      <th>Diabetes</th>\n",
       "      <th>Alcoholism</th>\n",
       "      <th>Handicapped</th>\n",
       "      <th>SMS_received</th>\n",
       "      <th>No_show</th>\n",
       "    </tr>\n",
       "  </thead>\n",
       "  <tbody>\n",
       "    <tr>\n",
       "      <th>0</th>\n",
       "      <td>29872499824296.0</td>\n",
       "      <td>5642903</td>\n",
       "      <td>F</td>\n",
       "      <td>2016-04-29 18:38:08+00:00</td>\n",
       "      <td>2016-04-29 00:00:00+00:00</td>\n",
       "      <td>62</td>\n",
       "      <td>JARDIM DA PENHA</td>\n",
       "      <td>0</td>\n",
       "      <td>1</td>\n",
       "      <td>0</td>\n",
       "      <td>0</td>\n",
       "      <td>0</td>\n",
       "      <td>0</td>\n",
       "      <td>No</td>\n",
       "    </tr>\n",
       "    <tr>\n",
       "      <th>1</th>\n",
       "      <td>558997776694438.0</td>\n",
       "      <td>5642503</td>\n",
       "      <td>M</td>\n",
       "      <td>2016-04-29 16:08:27+00:00</td>\n",
       "      <td>2016-04-29 00:00:00+00:00</td>\n",
       "      <td>56</td>\n",
       "      <td>JARDIM DA PENHA</td>\n",
       "      <td>0</td>\n",
       "      <td>0</td>\n",
       "      <td>0</td>\n",
       "      <td>0</td>\n",
       "      <td>0</td>\n",
       "      <td>0</td>\n",
       "      <td>No</td>\n",
       "    </tr>\n",
       "    <tr>\n",
       "      <th>2</th>\n",
       "      <td>4262962299951.0</td>\n",
       "      <td>5642549</td>\n",
       "      <td>F</td>\n",
       "      <td>2016-04-29 16:19:04+00:00</td>\n",
       "      <td>2016-04-29 00:00:00+00:00</td>\n",
       "      <td>62</td>\n",
       "      <td>MATA DA PRAIA</td>\n",
       "      <td>0</td>\n",
       "      <td>0</td>\n",
       "      <td>0</td>\n",
       "      <td>0</td>\n",
       "      <td>0</td>\n",
       "      <td>0</td>\n",
       "      <td>No</td>\n",
       "    </tr>\n",
       "    <tr>\n",
       "      <th>3</th>\n",
       "      <td>867951213174.0</td>\n",
       "      <td>5642828</td>\n",
       "      <td>F</td>\n",
       "      <td>2016-04-29 17:29:31+00:00</td>\n",
       "      <td>2016-04-29 00:00:00+00:00</td>\n",
       "      <td>8</td>\n",
       "      <td>PONTAL DE CAMBURI</td>\n",
       "      <td>0</td>\n",
       "      <td>0</td>\n",
       "      <td>0</td>\n",
       "      <td>0</td>\n",
       "      <td>0</td>\n",
       "      <td>0</td>\n",
       "      <td>No</td>\n",
       "    </tr>\n",
       "    <tr>\n",
       "      <th>4</th>\n",
       "      <td>8841186448183.0</td>\n",
       "      <td>5642494</td>\n",
       "      <td>F</td>\n",
       "      <td>2016-04-29 16:07:23+00:00</td>\n",
       "      <td>2016-04-29 00:00:00+00:00</td>\n",
       "      <td>56</td>\n",
       "      <td>JARDIM DA PENHA</td>\n",
       "      <td>0</td>\n",
       "      <td>1</td>\n",
       "      <td>1</td>\n",
       "      <td>0</td>\n",
       "      <td>0</td>\n",
       "      <td>0</td>\n",
       "      <td>No</td>\n",
       "    </tr>\n",
       "    <tr>\n",
       "      <th>...</th>\n",
       "      <td>...</td>\n",
       "      <td>...</td>\n",
       "      <td>...</td>\n",
       "      <td>...</td>\n",
       "      <td>...</td>\n",
       "      <td>...</td>\n",
       "      <td>...</td>\n",
       "      <td>...</td>\n",
       "      <td>...</td>\n",
       "      <td>...</td>\n",
       "      <td>...</td>\n",
       "      <td>...</td>\n",
       "      <td>...</td>\n",
       "      <td>...</td>\n",
       "    </tr>\n",
       "    <tr>\n",
       "      <th>110522</th>\n",
       "      <td>2572134369293.0</td>\n",
       "      <td>5651768</td>\n",
       "      <td>F</td>\n",
       "      <td>2016-05-03 09:15:35+00:00</td>\n",
       "      <td>2016-06-07 00:00:00+00:00</td>\n",
       "      <td>56</td>\n",
       "      <td>MARIA ORTIZ</td>\n",
       "      <td>0</td>\n",
       "      <td>0</td>\n",
       "      <td>0</td>\n",
       "      <td>0</td>\n",
       "      <td>0</td>\n",
       "      <td>1</td>\n",
       "      <td>No</td>\n",
       "    </tr>\n",
       "    <tr>\n",
       "      <th>110523</th>\n",
       "      <td>3596266328735.0</td>\n",
       "      <td>5650093</td>\n",
       "      <td>F</td>\n",
       "      <td>2016-05-03 07:27:33+00:00</td>\n",
       "      <td>2016-06-07 00:00:00+00:00</td>\n",
       "      <td>51</td>\n",
       "      <td>MARIA ORTIZ</td>\n",
       "      <td>0</td>\n",
       "      <td>0</td>\n",
       "      <td>0</td>\n",
       "      <td>0</td>\n",
       "      <td>0</td>\n",
       "      <td>1</td>\n",
       "      <td>No</td>\n",
       "    </tr>\n",
       "    <tr>\n",
       "      <th>110524</th>\n",
       "      <td>15576631729893.0</td>\n",
       "      <td>5630692</td>\n",
       "      <td>F</td>\n",
       "      <td>2016-04-27 16:03:52+00:00</td>\n",
       "      <td>2016-06-07 00:00:00+00:00</td>\n",
       "      <td>21</td>\n",
       "      <td>MARIA ORTIZ</td>\n",
       "      <td>0</td>\n",
       "      <td>0</td>\n",
       "      <td>0</td>\n",
       "      <td>0</td>\n",
       "      <td>0</td>\n",
       "      <td>1</td>\n",
       "      <td>No</td>\n",
       "    </tr>\n",
       "    <tr>\n",
       "      <th>110525</th>\n",
       "      <td>92134931435557.0</td>\n",
       "      <td>5630323</td>\n",
       "      <td>F</td>\n",
       "      <td>2016-04-27 15:09:23+00:00</td>\n",
       "      <td>2016-06-07 00:00:00+00:00</td>\n",
       "      <td>38</td>\n",
       "      <td>MARIA ORTIZ</td>\n",
       "      <td>0</td>\n",
       "      <td>0</td>\n",
       "      <td>0</td>\n",
       "      <td>0</td>\n",
       "      <td>0</td>\n",
       "      <td>1</td>\n",
       "      <td>No</td>\n",
       "    </tr>\n",
       "    <tr>\n",
       "      <th>110526</th>\n",
       "      <td>377511518121127.0</td>\n",
       "      <td>5629448</td>\n",
       "      <td>F</td>\n",
       "      <td>2016-04-27 13:30:56+00:00</td>\n",
       "      <td>2016-06-07 00:00:00+00:00</td>\n",
       "      <td>54</td>\n",
       "      <td>MARIA ORTIZ</td>\n",
       "      <td>0</td>\n",
       "      <td>0</td>\n",
       "      <td>0</td>\n",
       "      <td>0</td>\n",
       "      <td>0</td>\n",
       "      <td>1</td>\n",
       "      <td>No</td>\n",
       "    </tr>\n",
       "  </tbody>\n",
       "</table>\n",
       "<p>104515 rows × 14 columns</p>\n",
       "</div>"
      ],
      "text/plain": [
       "               Patient_ID Appointment_ID Gender             Scheduled_Day  \\\n",
       "0        29872499824296.0        5642903      F 2016-04-29 18:38:08+00:00   \n",
       "1       558997776694438.0        5642503      M 2016-04-29 16:08:27+00:00   \n",
       "2         4262962299951.0        5642549      F 2016-04-29 16:19:04+00:00   \n",
       "3          867951213174.0        5642828      F 2016-04-29 17:29:31+00:00   \n",
       "4         8841186448183.0        5642494      F 2016-04-29 16:07:23+00:00   \n",
       "...                   ...            ...    ...                       ...   \n",
       "110522    2572134369293.0        5651768      F 2016-05-03 09:15:35+00:00   \n",
       "110523    3596266328735.0        5650093      F 2016-05-03 07:27:33+00:00   \n",
       "110524   15576631729893.0        5630692      F 2016-04-27 16:03:52+00:00   \n",
       "110525   92134931435557.0        5630323      F 2016-04-27 15:09:23+00:00   \n",
       "110526  377511518121127.0        5629448      F 2016-04-27 13:30:56+00:00   \n",
       "\n",
       "                 Appointment_Day  Age      Neighbourhood  Scholarship  \\\n",
       "0      2016-04-29 00:00:00+00:00   62    JARDIM DA PENHA            0   \n",
       "1      2016-04-29 00:00:00+00:00   56    JARDIM DA PENHA            0   \n",
       "2      2016-04-29 00:00:00+00:00   62      MATA DA PRAIA            0   \n",
       "3      2016-04-29 00:00:00+00:00    8  PONTAL DE CAMBURI            0   \n",
       "4      2016-04-29 00:00:00+00:00   56    JARDIM DA PENHA            0   \n",
       "...                          ...  ...                ...          ...   \n",
       "110522 2016-06-07 00:00:00+00:00   56        MARIA ORTIZ            0   \n",
       "110523 2016-06-07 00:00:00+00:00   51        MARIA ORTIZ            0   \n",
       "110524 2016-06-07 00:00:00+00:00   21        MARIA ORTIZ            0   \n",
       "110525 2016-06-07 00:00:00+00:00   38        MARIA ORTIZ            0   \n",
       "110526 2016-06-07 00:00:00+00:00   54        MARIA ORTIZ            0   \n",
       "\n",
       "        Hypertension  Diabetes  Alcoholism  Handicapped  SMS_received No_show  \n",
       "0                  1         0           0            0             0      No  \n",
       "1                  0         0           0            0             0      No  \n",
       "2                  0         0           0            0             0      No  \n",
       "3                  0         0           0            0             0      No  \n",
       "4                  1         1           0            0             0      No  \n",
       "...              ...       ...         ...          ...           ...     ...  \n",
       "110522             0         0           0            0             1      No  \n",
       "110523             0         0           0            0             1      No  \n",
       "110524             0         0           0            0             1      No  \n",
       "110525             0         0           0            0             1      No  \n",
       "110526             0         0           0            0             1      No  \n",
       "\n",
       "[104515 rows x 14 columns]"
      ]
     },
     "execution_count": 20,
     "metadata": {},
     "output_type": "execute_result"
    }
   ],
   "source": [
    "#remove outliers in handicapped column\n",
    "data_cleaned = data_cleaned[data_cleaned['Handicapped'] <=1]\n",
    "data_cleaned"
   ]
  },
  {
   "cell_type": "markdown",
   "metadata": {},
   "source": [
    "**View a concise summary of the cleaned 'Data_cleaned' dataframe including the number of non-null values in each column**"
   ]
  },
  {
   "cell_type": "code",
   "execution_count": 21,
   "metadata": {
    "scrolled": false
   },
   "outputs": [
    {
     "name": "stdout",
     "output_type": "stream",
     "text": [
      "<class 'pandas.core.frame.DataFrame'>\n",
      "Int64Index: 104515 entries, 0 to 110526\n",
      "Data columns (total 14 columns):\n",
      " #   Column           Non-Null Count   Dtype              \n",
      "---  ------           --------------   -----              \n",
      " 0   Patient_ID       104515 non-null  object             \n",
      " 1   Appointment_ID   104515 non-null  object             \n",
      " 2   Gender           104515 non-null  object             \n",
      " 3   Scheduled_Day    104515 non-null  datetime64[ns, UTC]\n",
      " 4   Appointment_Day  104515 non-null  datetime64[ns, UTC]\n",
      " 5   Age              104515 non-null  int64              \n",
      " 6   Neighbourhood    104515 non-null  object             \n",
      " 7   Scholarship      104515 non-null  int64              \n",
      " 8   Hypertension     104515 non-null  int64              \n",
      " 9   Diabetes         104515 non-null  int64              \n",
      " 10  Alcoholism       104515 non-null  int64              \n",
      " 11  Handicapped      104515 non-null  int64              \n",
      " 12  SMS_received     104515 non-null  int64              \n",
      " 13  No_show          104515 non-null  object             \n",
      "dtypes: datetime64[ns, UTC](2), int64(7), object(5)\n",
      "memory usage: 12.0+ MB\n"
     ]
    }
   ],
   "source": [
    "data_cleaned.info()"
   ]
  },
  {
   "cell_type": "markdown",
   "metadata": {},
   "source": [
    "**Get useful descriptive statistics for each column after removing the outliers from the Handicapped column**"
   ]
  },
  {
   "cell_type": "code",
   "execution_count": 22,
   "metadata": {
    "scrolled": false
   },
   "outputs": [
    {
     "data": {
      "text/html": [
       "<div>\n",
       "<style scoped>\n",
       "    .dataframe tbody tr th:only-of-type {\n",
       "        vertical-align: middle;\n",
       "    }\n",
       "\n",
       "    .dataframe tbody tr th {\n",
       "        vertical-align: top;\n",
       "    }\n",
       "\n",
       "    .dataframe thead th {\n",
       "        text-align: right;\n",
       "    }\n",
       "</style>\n",
       "<table border=\"1\" class=\"dataframe\">\n",
       "  <thead>\n",
       "    <tr style=\"text-align: right;\">\n",
       "      <th></th>\n",
       "      <th>Age</th>\n",
       "      <th>Scholarship</th>\n",
       "      <th>Hypertension</th>\n",
       "      <th>Diabetes</th>\n",
       "      <th>Alcoholism</th>\n",
       "      <th>Handicapped</th>\n",
       "      <th>SMS_received</th>\n",
       "    </tr>\n",
       "  </thead>\n",
       "  <tbody>\n",
       "    <tr>\n",
       "      <th>count</th>\n",
       "      <td>104515.000000</td>\n",
       "      <td>104515.000000</td>\n",
       "      <td>104515.000000</td>\n",
       "      <td>104515.000000</td>\n",
       "      <td>104515.000000</td>\n",
       "      <td>104515.000000</td>\n",
       "      <td>104515.000000</td>\n",
       "    </tr>\n",
       "    <tr>\n",
       "      <th>mean</th>\n",
       "      <td>39.110482</td>\n",
       "      <td>0.102464</td>\n",
       "      <td>0.207779</td>\n",
       "      <td>0.075578</td>\n",
       "      <td>0.032072</td>\n",
       "      <td>0.019519</td>\n",
       "      <td>0.325044</td>\n",
       "    </tr>\n",
       "    <tr>\n",
       "      <th>std</th>\n",
       "      <td>22.004496</td>\n",
       "      <td>0.303259</td>\n",
       "      <td>0.405720</td>\n",
       "      <td>0.264322</td>\n",
       "      <td>0.176192</td>\n",
       "      <td>0.138340</td>\n",
       "      <td>0.468394</td>\n",
       "    </tr>\n",
       "    <tr>\n",
       "      <th>min</th>\n",
       "      <td>2.000000</td>\n",
       "      <td>0.000000</td>\n",
       "      <td>0.000000</td>\n",
       "      <td>0.000000</td>\n",
       "      <td>0.000000</td>\n",
       "      <td>0.000000</td>\n",
       "      <td>0.000000</td>\n",
       "    </tr>\n",
       "    <tr>\n",
       "      <th>25%</th>\n",
       "      <td>21.000000</td>\n",
       "      <td>0.000000</td>\n",
       "      <td>0.000000</td>\n",
       "      <td>0.000000</td>\n",
       "      <td>0.000000</td>\n",
       "      <td>0.000000</td>\n",
       "      <td>0.000000</td>\n",
       "    </tr>\n",
       "    <tr>\n",
       "      <th>50%</th>\n",
       "      <td>39.000000</td>\n",
       "      <td>0.000000</td>\n",
       "      <td>0.000000</td>\n",
       "      <td>0.000000</td>\n",
       "      <td>0.000000</td>\n",
       "      <td>0.000000</td>\n",
       "      <td>0.000000</td>\n",
       "    </tr>\n",
       "    <tr>\n",
       "      <th>75%</th>\n",
       "      <td>56.000000</td>\n",
       "      <td>0.000000</td>\n",
       "      <td>0.000000</td>\n",
       "      <td>0.000000</td>\n",
       "      <td>0.000000</td>\n",
       "      <td>0.000000</td>\n",
       "      <td>1.000000</td>\n",
       "    </tr>\n",
       "    <tr>\n",
       "      <th>max</th>\n",
       "      <td>115.000000</td>\n",
       "      <td>1.000000</td>\n",
       "      <td>1.000000</td>\n",
       "      <td>1.000000</td>\n",
       "      <td>1.000000</td>\n",
       "      <td>1.000000</td>\n",
       "      <td>1.000000</td>\n",
       "    </tr>\n",
       "  </tbody>\n",
       "</table>\n",
       "</div>"
      ],
      "text/plain": [
       "                 Age    Scholarship   Hypertension       Diabetes  \\\n",
       "count  104515.000000  104515.000000  104515.000000  104515.000000   \n",
       "mean       39.110482       0.102464       0.207779       0.075578   \n",
       "std        22.004496       0.303259       0.405720       0.264322   \n",
       "min         2.000000       0.000000       0.000000       0.000000   \n",
       "25%        21.000000       0.000000       0.000000       0.000000   \n",
       "50%        39.000000       0.000000       0.000000       0.000000   \n",
       "75%        56.000000       0.000000       0.000000       0.000000   \n",
       "max       115.000000       1.000000       1.000000       1.000000   \n",
       "\n",
       "          Alcoholism    Handicapped   SMS_received  \n",
       "count  104515.000000  104515.000000  104515.000000  \n",
       "mean        0.032072       0.019519       0.325044  \n",
       "std         0.176192       0.138340       0.468394  \n",
       "min         0.000000       0.000000       0.000000  \n",
       "25%         0.000000       0.000000       0.000000  \n",
       "50%         0.000000       0.000000       0.000000  \n",
       "75%         0.000000       0.000000       1.000000  \n",
       "max         1.000000       1.000000       1.000000  "
      ]
     },
     "execution_count": 22,
     "metadata": {},
     "output_type": "execute_result"
    }
   ],
   "source": [
    "data_cleaned.describe()"
   ]
  },
  {
   "cell_type": "markdown",
   "metadata": {},
   "source": [
    "After removing the outliers, the Handicapped column now has a maximum value of 1 and the total number of patients has reduced to 104515 patients"
   ]
  },
  {
   "cell_type": "markdown",
   "metadata": {},
   "source": [
    "**View the unique values in the Handicapped column**"
   ]
  },
  {
   "cell_type": "code",
   "execution_count": 23,
   "metadata": {},
   "outputs": [
    {
     "data": {
      "text/plain": [
       "[0, 1]"
      ]
     },
     "execution_count": 23,
     "metadata": {},
     "output_type": "execute_result"
    }
   ],
   "source": [
    "list(data_cleaned['Handicapped'].unique())"
   ]
  },
  {
   "cell_type": "markdown",
   "metadata": {},
   "source": [
    "The Handicapped column is now similar to the other boolean columns as We now have two unqiue values in the Handicapped column which are 1 and 0 interpreting as True and False respectively."
   ]
  },
  {
   "cell_type": "markdown",
   "metadata": {},
   "source": [
    "**The final step in the data cleanng process is to replace the 1 and 0 values with \"True\" and \"False\" respectively in the following columns in the \"data_cleaned\" dataframe:**\n",
    "- Alcoholism\n",
    "- Scholarship\n",
    "- Hypertension\n",
    "- Diabetes\n",
    "- Handicapped\n",
    "- SMS_received"
   ]
  },
  {
   "cell_type": "code",
   "execution_count": 24,
   "metadata": {
    "scrolled": true
   },
   "outputs": [
    {
     "name": "stderr",
     "output_type": "stream",
     "text": [
      "C:\\Users\\User\\AppData\\Local\\Temp/ipykernel_19812/674139896.py:1: SettingWithCopyWarning: \n",
      "A value is trying to be set on a copy of a slice from a DataFrame.\n",
      "Try using .loc[row_indexer,col_indexer] = value instead\n",
      "\n",
      "See the caveats in the documentation: https://pandas.pydata.org/pandas-docs/stable/user_guide/indexing.html#returning-a-view-versus-a-copy\n",
      "  data_cleaned['Alcoholism'] = data_cleaned['Alcoholism'].map({1: True, 0: False})\n",
      "C:\\Users\\User\\AppData\\Local\\Temp/ipykernel_19812/674139896.py:2: SettingWithCopyWarning: \n",
      "A value is trying to be set on a copy of a slice from a DataFrame.\n",
      "Try using .loc[row_indexer,col_indexer] = value instead\n",
      "\n",
      "See the caveats in the documentation: https://pandas.pydata.org/pandas-docs/stable/user_guide/indexing.html#returning-a-view-versus-a-copy\n",
      "  data_cleaned['Scholarship'] = data_cleaned['Scholarship'].map({1: True, 0: False})\n",
      "C:\\Users\\User\\AppData\\Local\\Temp/ipykernel_19812/674139896.py:3: SettingWithCopyWarning: \n",
      "A value is trying to be set on a copy of a slice from a DataFrame.\n",
      "Try using .loc[row_indexer,col_indexer] = value instead\n",
      "\n",
      "See the caveats in the documentation: https://pandas.pydata.org/pandas-docs/stable/user_guide/indexing.html#returning-a-view-versus-a-copy\n",
      "  data_cleaned['Hypertension'] = data_cleaned['Hypertension'].map({1: True, 0: False})\n",
      "C:\\Users\\User\\AppData\\Local\\Temp/ipykernel_19812/674139896.py:4: SettingWithCopyWarning: \n",
      "A value is trying to be set on a copy of a slice from a DataFrame.\n",
      "Try using .loc[row_indexer,col_indexer] = value instead\n",
      "\n",
      "See the caveats in the documentation: https://pandas.pydata.org/pandas-docs/stable/user_guide/indexing.html#returning-a-view-versus-a-copy\n",
      "  data_cleaned['Diabetes'] = data_cleaned['Diabetes'].map({1: True, 0: False})\n",
      "C:\\Users\\User\\AppData\\Local\\Temp/ipykernel_19812/674139896.py:5: SettingWithCopyWarning: \n",
      "A value is trying to be set on a copy of a slice from a DataFrame.\n",
      "Try using .loc[row_indexer,col_indexer] = value instead\n",
      "\n",
      "See the caveats in the documentation: https://pandas.pydata.org/pandas-docs/stable/user_guide/indexing.html#returning-a-view-versus-a-copy\n",
      "  data_cleaned['Handicapped'] = data_cleaned['Handicapped'].map({1: True, 0: False})\n",
      "C:\\Users\\User\\AppData\\Local\\Temp/ipykernel_19812/674139896.py:6: SettingWithCopyWarning: \n",
      "A value is trying to be set on a copy of a slice from a DataFrame.\n",
      "Try using .loc[row_indexer,col_indexer] = value instead\n",
      "\n",
      "See the caveats in the documentation: https://pandas.pydata.org/pandas-docs/stable/user_guide/indexing.html#returning-a-view-versus-a-copy\n",
      "  data_cleaned['SMS_received'] = data_cleaned['SMS_received'].map({1: True, 0: False})\n"
     ]
    },
    {
     "data": {
      "text/html": [
       "<div>\n",
       "<style scoped>\n",
       "    .dataframe tbody tr th:only-of-type {\n",
       "        vertical-align: middle;\n",
       "    }\n",
       "\n",
       "    .dataframe tbody tr th {\n",
       "        vertical-align: top;\n",
       "    }\n",
       "\n",
       "    .dataframe thead th {\n",
       "        text-align: right;\n",
       "    }\n",
       "</style>\n",
       "<table border=\"1\" class=\"dataframe\">\n",
       "  <thead>\n",
       "    <tr style=\"text-align: right;\">\n",
       "      <th></th>\n",
       "      <th>Patient_ID</th>\n",
       "      <th>Appointment_ID</th>\n",
       "      <th>Gender</th>\n",
       "      <th>Scheduled_Day</th>\n",
       "      <th>Appointment_Day</th>\n",
       "      <th>Age</th>\n",
       "      <th>Neighbourhood</th>\n",
       "      <th>Scholarship</th>\n",
       "      <th>Hypertension</th>\n",
       "      <th>Diabetes</th>\n",
       "      <th>Alcoholism</th>\n",
       "      <th>Handicapped</th>\n",
       "      <th>SMS_received</th>\n",
       "      <th>No_show</th>\n",
       "    </tr>\n",
       "  </thead>\n",
       "  <tbody>\n",
       "    <tr>\n",
       "      <th>0</th>\n",
       "      <td>29872499824296.0</td>\n",
       "      <td>5642903</td>\n",
       "      <td>F</td>\n",
       "      <td>2016-04-29 18:38:08+00:00</td>\n",
       "      <td>2016-04-29 00:00:00+00:00</td>\n",
       "      <td>62</td>\n",
       "      <td>JARDIM DA PENHA</td>\n",
       "      <td>False</td>\n",
       "      <td>True</td>\n",
       "      <td>False</td>\n",
       "      <td>False</td>\n",
       "      <td>False</td>\n",
       "      <td>False</td>\n",
       "      <td>No</td>\n",
       "    </tr>\n",
       "    <tr>\n",
       "      <th>1</th>\n",
       "      <td>558997776694438.0</td>\n",
       "      <td>5642503</td>\n",
       "      <td>M</td>\n",
       "      <td>2016-04-29 16:08:27+00:00</td>\n",
       "      <td>2016-04-29 00:00:00+00:00</td>\n",
       "      <td>56</td>\n",
       "      <td>JARDIM DA PENHA</td>\n",
       "      <td>False</td>\n",
       "      <td>False</td>\n",
       "      <td>False</td>\n",
       "      <td>False</td>\n",
       "      <td>False</td>\n",
       "      <td>False</td>\n",
       "      <td>No</td>\n",
       "    </tr>\n",
       "    <tr>\n",
       "      <th>2</th>\n",
       "      <td>4262962299951.0</td>\n",
       "      <td>5642549</td>\n",
       "      <td>F</td>\n",
       "      <td>2016-04-29 16:19:04+00:00</td>\n",
       "      <td>2016-04-29 00:00:00+00:00</td>\n",
       "      <td>62</td>\n",
       "      <td>MATA DA PRAIA</td>\n",
       "      <td>False</td>\n",
       "      <td>False</td>\n",
       "      <td>False</td>\n",
       "      <td>False</td>\n",
       "      <td>False</td>\n",
       "      <td>False</td>\n",
       "      <td>No</td>\n",
       "    </tr>\n",
       "    <tr>\n",
       "      <th>3</th>\n",
       "      <td>867951213174.0</td>\n",
       "      <td>5642828</td>\n",
       "      <td>F</td>\n",
       "      <td>2016-04-29 17:29:31+00:00</td>\n",
       "      <td>2016-04-29 00:00:00+00:00</td>\n",
       "      <td>8</td>\n",
       "      <td>PONTAL DE CAMBURI</td>\n",
       "      <td>False</td>\n",
       "      <td>False</td>\n",
       "      <td>False</td>\n",
       "      <td>False</td>\n",
       "      <td>False</td>\n",
       "      <td>False</td>\n",
       "      <td>No</td>\n",
       "    </tr>\n",
       "    <tr>\n",
       "      <th>4</th>\n",
       "      <td>8841186448183.0</td>\n",
       "      <td>5642494</td>\n",
       "      <td>F</td>\n",
       "      <td>2016-04-29 16:07:23+00:00</td>\n",
       "      <td>2016-04-29 00:00:00+00:00</td>\n",
       "      <td>56</td>\n",
       "      <td>JARDIM DA PENHA</td>\n",
       "      <td>False</td>\n",
       "      <td>True</td>\n",
       "      <td>True</td>\n",
       "      <td>False</td>\n",
       "      <td>False</td>\n",
       "      <td>False</td>\n",
       "      <td>No</td>\n",
       "    </tr>\n",
       "    <tr>\n",
       "      <th>...</th>\n",
       "      <td>...</td>\n",
       "      <td>...</td>\n",
       "      <td>...</td>\n",
       "      <td>...</td>\n",
       "      <td>...</td>\n",
       "      <td>...</td>\n",
       "      <td>...</td>\n",
       "      <td>...</td>\n",
       "      <td>...</td>\n",
       "      <td>...</td>\n",
       "      <td>...</td>\n",
       "      <td>...</td>\n",
       "      <td>...</td>\n",
       "      <td>...</td>\n",
       "    </tr>\n",
       "    <tr>\n",
       "      <th>110522</th>\n",
       "      <td>2572134369293.0</td>\n",
       "      <td>5651768</td>\n",
       "      <td>F</td>\n",
       "      <td>2016-05-03 09:15:35+00:00</td>\n",
       "      <td>2016-06-07 00:00:00+00:00</td>\n",
       "      <td>56</td>\n",
       "      <td>MARIA ORTIZ</td>\n",
       "      <td>False</td>\n",
       "      <td>False</td>\n",
       "      <td>False</td>\n",
       "      <td>False</td>\n",
       "      <td>False</td>\n",
       "      <td>True</td>\n",
       "      <td>No</td>\n",
       "    </tr>\n",
       "    <tr>\n",
       "      <th>110523</th>\n",
       "      <td>3596266328735.0</td>\n",
       "      <td>5650093</td>\n",
       "      <td>F</td>\n",
       "      <td>2016-05-03 07:27:33+00:00</td>\n",
       "      <td>2016-06-07 00:00:00+00:00</td>\n",
       "      <td>51</td>\n",
       "      <td>MARIA ORTIZ</td>\n",
       "      <td>False</td>\n",
       "      <td>False</td>\n",
       "      <td>False</td>\n",
       "      <td>False</td>\n",
       "      <td>False</td>\n",
       "      <td>True</td>\n",
       "      <td>No</td>\n",
       "    </tr>\n",
       "    <tr>\n",
       "      <th>110524</th>\n",
       "      <td>15576631729893.0</td>\n",
       "      <td>5630692</td>\n",
       "      <td>F</td>\n",
       "      <td>2016-04-27 16:03:52+00:00</td>\n",
       "      <td>2016-06-07 00:00:00+00:00</td>\n",
       "      <td>21</td>\n",
       "      <td>MARIA ORTIZ</td>\n",
       "      <td>False</td>\n",
       "      <td>False</td>\n",
       "      <td>False</td>\n",
       "      <td>False</td>\n",
       "      <td>False</td>\n",
       "      <td>True</td>\n",
       "      <td>No</td>\n",
       "    </tr>\n",
       "    <tr>\n",
       "      <th>110525</th>\n",
       "      <td>92134931435557.0</td>\n",
       "      <td>5630323</td>\n",
       "      <td>F</td>\n",
       "      <td>2016-04-27 15:09:23+00:00</td>\n",
       "      <td>2016-06-07 00:00:00+00:00</td>\n",
       "      <td>38</td>\n",
       "      <td>MARIA ORTIZ</td>\n",
       "      <td>False</td>\n",
       "      <td>False</td>\n",
       "      <td>False</td>\n",
       "      <td>False</td>\n",
       "      <td>False</td>\n",
       "      <td>True</td>\n",
       "      <td>No</td>\n",
       "    </tr>\n",
       "    <tr>\n",
       "      <th>110526</th>\n",
       "      <td>377511518121127.0</td>\n",
       "      <td>5629448</td>\n",
       "      <td>F</td>\n",
       "      <td>2016-04-27 13:30:56+00:00</td>\n",
       "      <td>2016-06-07 00:00:00+00:00</td>\n",
       "      <td>54</td>\n",
       "      <td>MARIA ORTIZ</td>\n",
       "      <td>False</td>\n",
       "      <td>False</td>\n",
       "      <td>False</td>\n",
       "      <td>False</td>\n",
       "      <td>False</td>\n",
       "      <td>True</td>\n",
       "      <td>No</td>\n",
       "    </tr>\n",
       "  </tbody>\n",
       "</table>\n",
       "<p>104515 rows × 14 columns</p>\n",
       "</div>"
      ],
      "text/plain": [
       "               Patient_ID Appointment_ID Gender             Scheduled_Day  \\\n",
       "0        29872499824296.0        5642903      F 2016-04-29 18:38:08+00:00   \n",
       "1       558997776694438.0        5642503      M 2016-04-29 16:08:27+00:00   \n",
       "2         4262962299951.0        5642549      F 2016-04-29 16:19:04+00:00   \n",
       "3          867951213174.0        5642828      F 2016-04-29 17:29:31+00:00   \n",
       "4         8841186448183.0        5642494      F 2016-04-29 16:07:23+00:00   \n",
       "...                   ...            ...    ...                       ...   \n",
       "110522    2572134369293.0        5651768      F 2016-05-03 09:15:35+00:00   \n",
       "110523    3596266328735.0        5650093      F 2016-05-03 07:27:33+00:00   \n",
       "110524   15576631729893.0        5630692      F 2016-04-27 16:03:52+00:00   \n",
       "110525   92134931435557.0        5630323      F 2016-04-27 15:09:23+00:00   \n",
       "110526  377511518121127.0        5629448      F 2016-04-27 13:30:56+00:00   \n",
       "\n",
       "                 Appointment_Day  Age      Neighbourhood  Scholarship  \\\n",
       "0      2016-04-29 00:00:00+00:00   62    JARDIM DA PENHA        False   \n",
       "1      2016-04-29 00:00:00+00:00   56    JARDIM DA PENHA        False   \n",
       "2      2016-04-29 00:00:00+00:00   62      MATA DA PRAIA        False   \n",
       "3      2016-04-29 00:00:00+00:00    8  PONTAL DE CAMBURI        False   \n",
       "4      2016-04-29 00:00:00+00:00   56    JARDIM DA PENHA        False   \n",
       "...                          ...  ...                ...          ...   \n",
       "110522 2016-06-07 00:00:00+00:00   56        MARIA ORTIZ        False   \n",
       "110523 2016-06-07 00:00:00+00:00   51        MARIA ORTIZ        False   \n",
       "110524 2016-06-07 00:00:00+00:00   21        MARIA ORTIZ        False   \n",
       "110525 2016-06-07 00:00:00+00:00   38        MARIA ORTIZ        False   \n",
       "110526 2016-06-07 00:00:00+00:00   54        MARIA ORTIZ        False   \n",
       "\n",
       "        Hypertension  Diabetes  Alcoholism  Handicapped  SMS_received No_show  \n",
       "0               True     False       False        False         False      No  \n",
       "1              False     False       False        False         False      No  \n",
       "2              False     False       False        False         False      No  \n",
       "3              False     False       False        False         False      No  \n",
       "4               True      True       False        False         False      No  \n",
       "...              ...       ...         ...          ...           ...     ...  \n",
       "110522         False     False       False        False          True      No  \n",
       "110523         False     False       False        False          True      No  \n",
       "110524         False     False       False        False          True      No  \n",
       "110525         False     False       False        False          True      No  \n",
       "110526         False     False       False        False          True      No  \n",
       "\n",
       "[104515 rows x 14 columns]"
      ]
     },
     "execution_count": 24,
     "metadata": {},
     "output_type": "execute_result"
    }
   ],
   "source": [
    "data_cleaned['Alcoholism'] = data_cleaned['Alcoholism'].map({1: True, 0: False})\n",
    "data_cleaned['Scholarship'] = data_cleaned['Scholarship'].map({1: True, 0: False})\n",
    "data_cleaned['Hypertension'] = data_cleaned['Hypertension'].map({1: True, 0: False})\n",
    "data_cleaned['Diabetes'] = data_cleaned['Diabetes'].map({1: True, 0: False})\n",
    "data_cleaned['Handicapped'] = data_cleaned['Handicapped'].map({1: True, 0: False})\n",
    "data_cleaned['SMS_received'] = data_cleaned['SMS_received'].map({1: True, 0: False})\n",
    "data_cleaned"
   ]
  },
  {
   "cell_type": "markdown",
   "metadata": {},
   "source": [
    "**And also replace the 'F' and 'M' values with 'Female' and 'Male' respectively in the gender column**"
   ]
  },
  {
   "cell_type": "code",
   "execution_count": 25,
   "metadata": {
    "scrolled": true
   },
   "outputs": [
    {
     "name": "stderr",
     "output_type": "stream",
     "text": [
      "C:\\Users\\User\\AppData\\Local\\Temp/ipykernel_19812/374057431.py:1: SettingWithCopyWarning: \n",
      "A value is trying to be set on a copy of a slice from a DataFrame.\n",
      "Try using .loc[row_indexer,col_indexer] = value instead\n",
      "\n",
      "See the caveats in the documentation: https://pandas.pydata.org/pandas-docs/stable/user_guide/indexing.html#returning-a-view-versus-a-copy\n",
      "  data_cleaned['Gender'] = data_cleaned['Gender'].map({'F': 'Female', 'M': 'Male'})\n"
     ]
    },
    {
     "data": {
      "text/html": [
       "<div>\n",
       "<style scoped>\n",
       "    .dataframe tbody tr th:only-of-type {\n",
       "        vertical-align: middle;\n",
       "    }\n",
       "\n",
       "    .dataframe tbody tr th {\n",
       "        vertical-align: top;\n",
       "    }\n",
       "\n",
       "    .dataframe thead th {\n",
       "        text-align: right;\n",
       "    }\n",
       "</style>\n",
       "<table border=\"1\" class=\"dataframe\">\n",
       "  <thead>\n",
       "    <tr style=\"text-align: right;\">\n",
       "      <th></th>\n",
       "      <th>Patient_ID</th>\n",
       "      <th>Appointment_ID</th>\n",
       "      <th>Gender</th>\n",
       "      <th>Scheduled_Day</th>\n",
       "      <th>Appointment_Day</th>\n",
       "      <th>Age</th>\n",
       "      <th>Neighbourhood</th>\n",
       "      <th>Scholarship</th>\n",
       "      <th>Hypertension</th>\n",
       "      <th>Diabetes</th>\n",
       "      <th>Alcoholism</th>\n",
       "      <th>Handicapped</th>\n",
       "      <th>SMS_received</th>\n",
       "      <th>No_show</th>\n",
       "    </tr>\n",
       "  </thead>\n",
       "  <tbody>\n",
       "    <tr>\n",
       "      <th>0</th>\n",
       "      <td>29872499824296.0</td>\n",
       "      <td>5642903</td>\n",
       "      <td>Female</td>\n",
       "      <td>2016-04-29 18:38:08+00:00</td>\n",
       "      <td>2016-04-29 00:00:00+00:00</td>\n",
       "      <td>62</td>\n",
       "      <td>JARDIM DA PENHA</td>\n",
       "      <td>False</td>\n",
       "      <td>True</td>\n",
       "      <td>False</td>\n",
       "      <td>False</td>\n",
       "      <td>False</td>\n",
       "      <td>False</td>\n",
       "      <td>No</td>\n",
       "    </tr>\n",
       "    <tr>\n",
       "      <th>1</th>\n",
       "      <td>558997776694438.0</td>\n",
       "      <td>5642503</td>\n",
       "      <td>Male</td>\n",
       "      <td>2016-04-29 16:08:27+00:00</td>\n",
       "      <td>2016-04-29 00:00:00+00:00</td>\n",
       "      <td>56</td>\n",
       "      <td>JARDIM DA PENHA</td>\n",
       "      <td>False</td>\n",
       "      <td>False</td>\n",
       "      <td>False</td>\n",
       "      <td>False</td>\n",
       "      <td>False</td>\n",
       "      <td>False</td>\n",
       "      <td>No</td>\n",
       "    </tr>\n",
       "    <tr>\n",
       "      <th>2</th>\n",
       "      <td>4262962299951.0</td>\n",
       "      <td>5642549</td>\n",
       "      <td>Female</td>\n",
       "      <td>2016-04-29 16:19:04+00:00</td>\n",
       "      <td>2016-04-29 00:00:00+00:00</td>\n",
       "      <td>62</td>\n",
       "      <td>MATA DA PRAIA</td>\n",
       "      <td>False</td>\n",
       "      <td>False</td>\n",
       "      <td>False</td>\n",
       "      <td>False</td>\n",
       "      <td>False</td>\n",
       "      <td>False</td>\n",
       "      <td>No</td>\n",
       "    </tr>\n",
       "    <tr>\n",
       "      <th>3</th>\n",
       "      <td>867951213174.0</td>\n",
       "      <td>5642828</td>\n",
       "      <td>Female</td>\n",
       "      <td>2016-04-29 17:29:31+00:00</td>\n",
       "      <td>2016-04-29 00:00:00+00:00</td>\n",
       "      <td>8</td>\n",
       "      <td>PONTAL DE CAMBURI</td>\n",
       "      <td>False</td>\n",
       "      <td>False</td>\n",
       "      <td>False</td>\n",
       "      <td>False</td>\n",
       "      <td>False</td>\n",
       "      <td>False</td>\n",
       "      <td>No</td>\n",
       "    </tr>\n",
       "    <tr>\n",
       "      <th>4</th>\n",
       "      <td>8841186448183.0</td>\n",
       "      <td>5642494</td>\n",
       "      <td>Female</td>\n",
       "      <td>2016-04-29 16:07:23+00:00</td>\n",
       "      <td>2016-04-29 00:00:00+00:00</td>\n",
       "      <td>56</td>\n",
       "      <td>JARDIM DA PENHA</td>\n",
       "      <td>False</td>\n",
       "      <td>True</td>\n",
       "      <td>True</td>\n",
       "      <td>False</td>\n",
       "      <td>False</td>\n",
       "      <td>False</td>\n",
       "      <td>No</td>\n",
       "    </tr>\n",
       "    <tr>\n",
       "      <th>...</th>\n",
       "      <td>...</td>\n",
       "      <td>...</td>\n",
       "      <td>...</td>\n",
       "      <td>...</td>\n",
       "      <td>...</td>\n",
       "      <td>...</td>\n",
       "      <td>...</td>\n",
       "      <td>...</td>\n",
       "      <td>...</td>\n",
       "      <td>...</td>\n",
       "      <td>...</td>\n",
       "      <td>...</td>\n",
       "      <td>...</td>\n",
       "      <td>...</td>\n",
       "    </tr>\n",
       "    <tr>\n",
       "      <th>110522</th>\n",
       "      <td>2572134369293.0</td>\n",
       "      <td>5651768</td>\n",
       "      <td>Female</td>\n",
       "      <td>2016-05-03 09:15:35+00:00</td>\n",
       "      <td>2016-06-07 00:00:00+00:00</td>\n",
       "      <td>56</td>\n",
       "      <td>MARIA ORTIZ</td>\n",
       "      <td>False</td>\n",
       "      <td>False</td>\n",
       "      <td>False</td>\n",
       "      <td>False</td>\n",
       "      <td>False</td>\n",
       "      <td>True</td>\n",
       "      <td>No</td>\n",
       "    </tr>\n",
       "    <tr>\n",
       "      <th>110523</th>\n",
       "      <td>3596266328735.0</td>\n",
       "      <td>5650093</td>\n",
       "      <td>Female</td>\n",
       "      <td>2016-05-03 07:27:33+00:00</td>\n",
       "      <td>2016-06-07 00:00:00+00:00</td>\n",
       "      <td>51</td>\n",
       "      <td>MARIA ORTIZ</td>\n",
       "      <td>False</td>\n",
       "      <td>False</td>\n",
       "      <td>False</td>\n",
       "      <td>False</td>\n",
       "      <td>False</td>\n",
       "      <td>True</td>\n",
       "      <td>No</td>\n",
       "    </tr>\n",
       "    <tr>\n",
       "      <th>110524</th>\n",
       "      <td>15576631729893.0</td>\n",
       "      <td>5630692</td>\n",
       "      <td>Female</td>\n",
       "      <td>2016-04-27 16:03:52+00:00</td>\n",
       "      <td>2016-06-07 00:00:00+00:00</td>\n",
       "      <td>21</td>\n",
       "      <td>MARIA ORTIZ</td>\n",
       "      <td>False</td>\n",
       "      <td>False</td>\n",
       "      <td>False</td>\n",
       "      <td>False</td>\n",
       "      <td>False</td>\n",
       "      <td>True</td>\n",
       "      <td>No</td>\n",
       "    </tr>\n",
       "    <tr>\n",
       "      <th>110525</th>\n",
       "      <td>92134931435557.0</td>\n",
       "      <td>5630323</td>\n",
       "      <td>Female</td>\n",
       "      <td>2016-04-27 15:09:23+00:00</td>\n",
       "      <td>2016-06-07 00:00:00+00:00</td>\n",
       "      <td>38</td>\n",
       "      <td>MARIA ORTIZ</td>\n",
       "      <td>False</td>\n",
       "      <td>False</td>\n",
       "      <td>False</td>\n",
       "      <td>False</td>\n",
       "      <td>False</td>\n",
       "      <td>True</td>\n",
       "      <td>No</td>\n",
       "    </tr>\n",
       "    <tr>\n",
       "      <th>110526</th>\n",
       "      <td>377511518121127.0</td>\n",
       "      <td>5629448</td>\n",
       "      <td>Female</td>\n",
       "      <td>2016-04-27 13:30:56+00:00</td>\n",
       "      <td>2016-06-07 00:00:00+00:00</td>\n",
       "      <td>54</td>\n",
       "      <td>MARIA ORTIZ</td>\n",
       "      <td>False</td>\n",
       "      <td>False</td>\n",
       "      <td>False</td>\n",
       "      <td>False</td>\n",
       "      <td>False</td>\n",
       "      <td>True</td>\n",
       "      <td>No</td>\n",
       "    </tr>\n",
       "  </tbody>\n",
       "</table>\n",
       "<p>104515 rows × 14 columns</p>\n",
       "</div>"
      ],
      "text/plain": [
       "               Patient_ID Appointment_ID  Gender             Scheduled_Day  \\\n",
       "0        29872499824296.0        5642903  Female 2016-04-29 18:38:08+00:00   \n",
       "1       558997776694438.0        5642503    Male 2016-04-29 16:08:27+00:00   \n",
       "2         4262962299951.0        5642549  Female 2016-04-29 16:19:04+00:00   \n",
       "3          867951213174.0        5642828  Female 2016-04-29 17:29:31+00:00   \n",
       "4         8841186448183.0        5642494  Female 2016-04-29 16:07:23+00:00   \n",
       "...                   ...            ...     ...                       ...   \n",
       "110522    2572134369293.0        5651768  Female 2016-05-03 09:15:35+00:00   \n",
       "110523    3596266328735.0        5650093  Female 2016-05-03 07:27:33+00:00   \n",
       "110524   15576631729893.0        5630692  Female 2016-04-27 16:03:52+00:00   \n",
       "110525   92134931435557.0        5630323  Female 2016-04-27 15:09:23+00:00   \n",
       "110526  377511518121127.0        5629448  Female 2016-04-27 13:30:56+00:00   \n",
       "\n",
       "                 Appointment_Day  Age      Neighbourhood  Scholarship  \\\n",
       "0      2016-04-29 00:00:00+00:00   62    JARDIM DA PENHA        False   \n",
       "1      2016-04-29 00:00:00+00:00   56    JARDIM DA PENHA        False   \n",
       "2      2016-04-29 00:00:00+00:00   62      MATA DA PRAIA        False   \n",
       "3      2016-04-29 00:00:00+00:00    8  PONTAL DE CAMBURI        False   \n",
       "4      2016-04-29 00:00:00+00:00   56    JARDIM DA PENHA        False   \n",
       "...                          ...  ...                ...          ...   \n",
       "110522 2016-06-07 00:00:00+00:00   56        MARIA ORTIZ        False   \n",
       "110523 2016-06-07 00:00:00+00:00   51        MARIA ORTIZ        False   \n",
       "110524 2016-06-07 00:00:00+00:00   21        MARIA ORTIZ        False   \n",
       "110525 2016-06-07 00:00:00+00:00   38        MARIA ORTIZ        False   \n",
       "110526 2016-06-07 00:00:00+00:00   54        MARIA ORTIZ        False   \n",
       "\n",
       "        Hypertension  Diabetes  Alcoholism  Handicapped  SMS_received No_show  \n",
       "0               True     False       False        False         False      No  \n",
       "1              False     False       False        False         False      No  \n",
       "2              False     False       False        False         False      No  \n",
       "3              False     False       False        False         False      No  \n",
       "4               True      True       False        False         False      No  \n",
       "...              ...       ...         ...          ...           ...     ...  \n",
       "110522         False     False       False        False          True      No  \n",
       "110523         False     False       False        False          True      No  \n",
       "110524         False     False       False        False          True      No  \n",
       "110525         False     False       False        False          True      No  \n",
       "110526         False     False       False        False          True      No  \n",
       "\n",
       "[104515 rows x 14 columns]"
      ]
     },
     "execution_count": 25,
     "metadata": {},
     "output_type": "execute_result"
    }
   ],
   "source": [
    "data_cleaned['Gender'] = data_cleaned['Gender'].map({'F': 'Female', 'M': 'Male'})\n",
    "data_cleaned"
   ]
  },
  {
   "cell_type": "code",
   "execution_count": 26,
   "metadata": {},
   "outputs": [
    {
     "data": {
      "text/html": [
       "<div>\n",
       "<style scoped>\n",
       "    .dataframe tbody tr th:only-of-type {\n",
       "        vertical-align: middle;\n",
       "    }\n",
       "\n",
       "    .dataframe tbody tr th {\n",
       "        vertical-align: top;\n",
       "    }\n",
       "\n",
       "    .dataframe thead th {\n",
       "        text-align: right;\n",
       "    }\n",
       "</style>\n",
       "<table border=\"1\" class=\"dataframe\">\n",
       "  <thead>\n",
       "    <tr style=\"text-align: right;\">\n",
       "      <th></th>\n",
       "      <th>Age</th>\n",
       "    </tr>\n",
       "  </thead>\n",
       "  <tbody>\n",
       "    <tr>\n",
       "      <th>count</th>\n",
       "      <td>104515.000000</td>\n",
       "    </tr>\n",
       "    <tr>\n",
       "      <th>mean</th>\n",
       "      <td>39.110482</td>\n",
       "    </tr>\n",
       "    <tr>\n",
       "      <th>std</th>\n",
       "      <td>22.004496</td>\n",
       "    </tr>\n",
       "    <tr>\n",
       "      <th>min</th>\n",
       "      <td>2.000000</td>\n",
       "    </tr>\n",
       "    <tr>\n",
       "      <th>25%</th>\n",
       "      <td>21.000000</td>\n",
       "    </tr>\n",
       "    <tr>\n",
       "      <th>50%</th>\n",
       "      <td>39.000000</td>\n",
       "    </tr>\n",
       "    <tr>\n",
       "      <th>75%</th>\n",
       "      <td>56.000000</td>\n",
       "    </tr>\n",
       "    <tr>\n",
       "      <th>max</th>\n",
       "      <td>115.000000</td>\n",
       "    </tr>\n",
       "  </tbody>\n",
       "</table>\n",
       "</div>"
      ],
      "text/plain": [
       "                 Age\n",
       "count  104515.000000\n",
       "mean       39.110482\n",
       "std        22.004496\n",
       "min         2.000000\n",
       "25%        21.000000\n",
       "50%        39.000000\n",
       "75%        56.000000\n",
       "max       115.000000"
      ]
     },
     "execution_count": 26,
     "metadata": {},
     "output_type": "execute_result"
    }
   ],
   "source": [
    "data_cleaned.describe()"
   ]
  },
  {
   "cell_type": "markdown",
   "metadata": {},
   "source": [
    "**The final descriptive statistics tells us the following about the patients' age column:**\n",
    "\n",
    "**- We have a total number of 104515 patients in the dataframe** \n",
    "\n",
    "**- 25% of the 104515 patients are under 21 years old**\n",
    "\n",
    "**- 25% of the 104515 patients are over 56 years old**\n",
    "\n",
    "**- 39 years old is the average age of patients**\n",
    "\n",
    "**- 2 years old is the minimum age in the dataframe**\n",
    "\n",
    "**- 115 years old is the maximum age in the dataframe**"
   ]
  },
  {
   "cell_type": "markdown",
   "metadata": {},
   "source": [
    "<a id='eda'></a>\n",
    "## Exploratory Data Analysis"
   ]
  },
  {
   "cell_type": "markdown",
   "metadata": {},
   "source": [
    "### What is gender distribution of patients in the cleaned dataset?\n",
    "\n",
    "**Univariate Analysis on the gender variable:** An histogram will be plotted to display the number of males and females respectively"
   ]
  },
  {
   "cell_type": "code",
   "execution_count": 27,
   "metadata": {
    "scrolled": true
   },
   "outputs": [
    {
     "data": {
      "image/png": "[encoded data removed]",
      "text/plain": [
       "<Figure size 432x288 with 1 Axes>"
      ]
     },
     "metadata": {
      "needs_background": "light"
     },
     "output_type": "display_data"
    }
   ],
   "source": [
    "sns.histplot(x = data_cleaned['Gender'], stat = 'count', color = 'g')\n",
    "plt.xlabel(\"PATIENTS' GENDER\")\n",
    "plt.ylabel(\"NUMBER OF PATIENTS\")\n",
    "plt.title('GENDER DISTRIBUTION OF PATIENTS')\n",
    "plt.show()"
   ]
  },
  {
   "cell_type": "markdown",
   "metadata": {},
   "source": [
    "The Gender distribution histogram above, show us that there are **approximately 68000 female patients and 37000 male patients** in the cleaned dataset"
   ]
  },
  {
   "cell_type": "markdown",
   "metadata": {},
   "source": [
    "### What is age distribution of patients in the cleaned dataset?\n",
    "\n",
    "**Univariate Analysis on the age variable:** An histogram will be plotted to display the age distribution of patients."
   ]
  },
  {
   "cell_type": "code",
   "execution_count": 28,
   "metadata": {},
   "outputs": [
    {
     "data": {
      "image/png": "[encoded data removed]",
      "text/plain": [
       "<Figure size 432x288 with 1 Axes>"
      ]
     },
     "metadata": {
      "needs_background": "light"
     },
     "output_type": "display_data"
    }
   ],
   "source": [
    "sns.histplot(x = data_cleaned['Age'], bins = 8, color ='r')\n",
    "plt.xlabel(\"PATIENTS' AGE\")\n",
    "plt.ylabel(\"NUMBER OF PATIENTS\")\n",
    "plt.title('AGE DISTRIBUTION OF PATIENTS')\n",
    "plt.show()"
   ]
  },
  {
   "cell_type": "markdown",
   "metadata": {},
   "source": [
    "The Age distribution of patient's histogram plot above, shows that **majority of the patients (approximately 23,000 patients) are between the age of 40-58 years** while **only a few number of the patients are over 100 years old**. \n",
    "\n",
    "Approximately 15,000 patients are between age 62-72 years, 6,500 patients between 72-84 years.\n",
    "\n",
    "There are more younger patients (2-58 years) than older patients (59-115 years) in the cleaned dataset."
   ]
  },
  {
   "cell_type": "markdown",
   "metadata": {},
   "source": [
    "### What is the realtionship between patients' age and gender distribution?\n",
    "\n",
    "**Bivariate analysis on \"No_show\" variable and \"Gender\" variable**\n",
    "-Use a boxplot to visualize the relationship between patients' \"Gender\" and \"Age\""
   ]
  },
  {
   "cell_type": "code",
   "execution_count": 29,
   "metadata": {},
   "outputs": [
    {
     "data": {
      "image/png": "[encoded data removed]",
      "text/plain": [
       "<Figure size 432x288 with 1 Axes>"
      ]
     },
     "metadata": {
      "needs_background": "light"
     },
     "output_type": "display_data"
    }
   ],
   "source": [
    "sns.boxplot(y = data_cleaned['Age'], x = data_cleaned['Gender'])\n",
    "plt.xlabel(\"PATIENTS' GENDER\")\n",
    "plt.ylabel(\"PATIENTS' AGE\")\n",
    "plt.title(\"RELATIONSHIP BETWEEN PATIENTS' GENDER AND AGE\")\n",
    "plt.show()"
   ]
  },
  {
   "cell_type": "markdown",
   "metadata": {},
   "source": [
    "**The boxplot above tells us the following:**\n",
    "\n",
    "**FOR FEMALE**\n",
    "- Medain age: 50% of females were 40 years old\n",
    "- Inter-quartile range: Between 25-55 years old\n",
    "- Upper quartile: 75% of females were 55 years old and below\n",
    "- Lower quartile: 25% of females were 25 years old and below\n",
    "- Upper whisker: Between 55-105 years old\n",
    "- Lower whisker: Between 5-25 years old\n",
    "- A few of the women are older than 100 years old\n",
    "\n",
    "**FOR MALE**\n",
    "- Medain age: 50% of males were around 35 years old\n",
    "- Inter-quartile range: Between 10-54 years old\n",
    "- Upper quartile: 75% of males were around 54 years old and below\n",
    "- Lower quartile: 25% of males were around 10 years old and below\n",
    "- Upper whisker: Between 54-98 years old\n",
    "- Lower whisker: Between 5-10 years old"
   ]
  },
  {
   "cell_type": "markdown",
   "metadata": {},
   "source": [
    "### Research Question 1: What is the proportion of people who showed up compared to those who didn't show up on their appointment day?"
   ]
  },
  {
   "cell_type": "markdown",
   "metadata": {},
   "source": [
    "**Univariate Analysis on the age variable:** An histogram will be plotted to display the attendance of patients"
   ]
  },
  {
   "cell_type": "code",
   "execution_count": 30,
   "metadata": {},
   "outputs": [
    {
     "data": {
      "image/png": "[encoded data removed]",
      "text/plain": [
       "<Figure size 432x288 with 1 Axes>"
      ]
     },
     "metadata": {
      "needs_background": "light"
     },
     "output_type": "display_data"
    }
   ],
   "source": [
    "sns.histplot(x = data_cleaned['No_show'])\n",
    "plt.xlabel(\"WERE THE PATIENT'S ABSENT?\")\n",
    "plt.ylabel(\"NUMBER OF PATIENTS\")\n",
    "plt.title(\"PATIENTS' ATTENDANCE\")\n",
    "plt.show()"
   ]
  },
  {
   "cell_type": "markdown",
   "metadata": {},
   "source": [
    "**We can deduce the following from the histogram above:**\n",
    "\n",
    "**'No_show' value is 'No': Over 80000 patients showed up to the hospital on their appointment day.**\n",
    "\n",
    "**'No_show' value is 'Yes': Approximately 20000 patientsdid not show up to the hospital on their appointment day.**"
   ]
  },
  {
   "cell_type": "code",
   "execution_count": 31,
   "metadata": {},
   "outputs": [
    {
     "data": {
      "text/plain": [
       "No     0.796929\n",
       "Yes    0.203071\n",
       "Name: No_show, dtype: float64"
      ]
     },
     "execution_count": 31,
     "metadata": {},
     "output_type": "execute_result"
    }
   ],
   "source": [
    "#Get the patients' attandance distribution\n",
    "data_cleaned['No_show'].value_counts(normalize = True)"
   ]
  },
  {
   "cell_type": "markdown",
   "metadata": {},
   "source": [
    "**'No_show' value is 'No': The proportion of people who showed up to the hospital on their appointment day is 0.796929 which is approximately 80%.**\n",
    "\n",
    "**'No_show' value is Yes: The proportion of people who did not show up to the hospital on their appointment day is 0.203071 which is approxinately 20%.**\n",
    "This means that we have a larger percentage of people showing up for their appointments. However, what might have happened to 20% absentees?\n",
    "\n",
    "Being able to count values in your dataset is an important step in better understanding the distribution of your data.\n",
    "\n",
    "source: https://datagy.io/pandas-value-counts/#:~:text=Being%20able%20to%20count%20values,to%20fine-tune%20your%20analysis."
   ]
  },
  {
   "cell_type": "markdown",
   "metadata": {},
   "source": [
    "**A barplot is used below to visualize the proportion of patients' attendance**"
   ]
  },
  {
   "cell_type": "code",
   "execution_count": 32,
   "metadata": {},
   "outputs": [
    {
     "data": {
      "image/png": "[encoded data removed]",
      "text/plain": [
       "<Figure size 432x288 with 1 Axes>"
      ]
     },
     "metadata": {
      "needs_background": "light"
     },
     "output_type": "display_data"
    }
   ],
   "source": [
    "data_cleaned['No_show'].value_counts(normalize = True).plot(kind = 'bar')\n",
    "plt.xlabel(\"WERE THE PATIENT'S ABSENT?\")\n",
    "plt.ylabel(\"NUMBER OF PATIENTS\")\n",
    "plt.title(\"PATIENTS' ATTENDANCE\")\n",
    "plt.show()"
   ]
  },
  {
   "cell_type": "markdown",
   "metadata": {},
   "source": [
    "**No_show is No = This means the patient was present on their appointment day.**\n",
    "\n",
    "**No_show is Yes = This means that the patient was absent on their appointment day.**"
   ]
  },
  {
   "cell_type": "markdown",
   "metadata": {},
   "source": [
    "**The patients' attendance barplot shows us the following:**\n",
    "\n",
    "**'No_show' value is 'No': Approximately 0.8 proportion of patients i.e 80% showed up to the hospital on their appointment day.**\n",
    "\n",
    "**'No_show' value is 'Yes': Approximately 0.2 proportion of patients i.e 20% did not show up to the hospital on their appointment day.**"
   ]
  },
  {
   "cell_type": "markdown",
   "metadata": {},
   "source": [
    "### Research Question 2:  What factors are important for us to know in order to predict if a patient will show up for their scheduled appointment?"
   ]
  },
  {
   "cell_type": "markdown",
   "metadata": {},
   "source": [
    "### - Is alcoholism a contributing factor to a patient's absence?"
   ]
  },
  {
   "cell_type": "markdown",
   "metadata": {},
   "source": [
    "**Bivariate analysis on \"No_show\" variable and \"Alcoholism\" variable**"
   ]
  },
  {
   "cell_type": "markdown",
   "metadata": {},
   "source": [
    "- Group the \"Alcoholism\" column by \"No_show\" entries.\n",
    "- Use value_counts to better understand the distribution of alcoholism based on the No_show entries.\n",
    "- Use reset_index() to reset index of the \"data_cleaned\" dataframe object to default indexing. \n",
    "\n",
    "Read more about \"reset_index.()\" here:https://www.machinelearningplus.com/pandas/pandas-reset-index/#:~:text=reset_index%20in%20pandas%20is%20used,gets%20converted%20to%20a%20column."
   ]
  },
  {
   "cell_type": "markdown",
   "metadata": {},
   "source": [
    "**No_show is No = This means the patient was present on their appointment day.**\n",
    "\n",
    "**No_show is Yes = This means that the patient was absent on their appointment day.**"
   ]
  },
  {
   "cell_type": "code",
   "execution_count": 33,
   "metadata": {
    "scrolled": false
   },
   "outputs": [
    {
     "data": {
      "text/html": [
       "<div>\n",
       "<style scoped>\n",
       "    .dataframe tbody tr th:only-of-type {\n",
       "        vertical-align: middle;\n",
       "    }\n",
       "\n",
       "    .dataframe tbody tr th {\n",
       "        vertical-align: top;\n",
       "    }\n",
       "\n",
       "    .dataframe thead th {\n",
       "        text-align: right;\n",
       "    }\n",
       "</style>\n",
       "<table border=\"1\" class=\"dataframe\">\n",
       "  <thead>\n",
       "    <tr style=\"text-align: right;\">\n",
       "      <th></th>\n",
       "      <th>No_show</th>\n",
       "      <th>Alcoholism</th>\n",
       "      <th>Proportions</th>\n",
       "    </tr>\n",
       "  </thead>\n",
       "  <tbody>\n",
       "    <tr>\n",
       "      <th>0</th>\n",
       "      <td>No</td>\n",
       "      <td>False</td>\n",
       "      <td>0.967860</td>\n",
       "    </tr>\n",
       "    <tr>\n",
       "      <th>1</th>\n",
       "      <td>No</td>\n",
       "      <td>True</td>\n",
       "      <td>0.032140</td>\n",
       "    </tr>\n",
       "    <tr>\n",
       "      <th>2</th>\n",
       "      <td>Yes</td>\n",
       "      <td>False</td>\n",
       "      <td>0.968196</td>\n",
       "    </tr>\n",
       "    <tr>\n",
       "      <th>3</th>\n",
       "      <td>Yes</td>\n",
       "      <td>True</td>\n",
       "      <td>0.031804</td>\n",
       "    </tr>\n",
       "  </tbody>\n",
       "</table>\n",
       "</div>"
      ],
      "text/plain": [
       "  No_show  Alcoholism  Proportions\n",
       "0      No       False     0.967860\n",
       "1      No        True     0.032140\n",
       "2     Yes       False     0.968196\n",
       "3     Yes        True     0.031804"
      ]
     },
     "execution_count": 33,
     "metadata": {},
     "output_type": "execute_result"
    }
   ],
   "source": [
    "data_cleaned.groupby(['No_show'])['Alcoholism'].value_counts(normalize = True).reset_index(name = 'Proportions')"
   ]
  },
  {
   "cell_type": "markdown",
   "metadata": {},
   "source": [
    "**After conducting a value count on patients' attendance based on/grouped by alcholism, we can deduce the following from the proportions output above:**\n",
    "- **0.967860 proportion** of total patients **were not into alcoholism and were also present** at the hospital on their appointment day.\n",
    "- **0.032140 proportion** of total patients **were into alcoholism and were also present** at the hospital on their appointment day.\n",
    "- **0.968196 proportion** of total patients **were not into alcholism and were also absent** at the hospital on their appointment day.\n",
    "- **0.031804 proportion** of total patients **were into alcholism and were also absent** at the hospital on their appointment day."
   ]
  },
  {
   "cell_type": "markdown",
   "metadata": {},
   "source": [
    "**I will proceed to define a function called \"proportions\" below so to avoid repeating the same code/instructions in for the other parameters that i will be analyzing.**\n",
    "\n",
    "According to www.datacamp.com, \"Functions are used in programming to bundle a set of instructions that you want to use repeatedly or that, because of their complexity, are better self-contained in a sub-program and called when needed. That means that a function is a piece of code written to carry out a specified task\".\n",
    "Source: https://www.datacamp.com/tutorial/functions-python-tutorial"
   ]
  },
  {
   "cell_type": "code",
   "execution_count": null,
   "metadata": {},
   "outputs": [],
   "source": [
    "import tweepy\n",
    "from tweepy import OAuthHandler\n",
    "import json\n",
    "from timeit import default_timer as timer\n",
    "\n",
    "# Query Twitter API for each tweet in the Twitter archive and save JSON in a text file\n",
    "# These are hidden to comply with Twitter's API terms and conditions\n",
    "consumer_key = 'HIDDEN'\n",
    "consumer_secret = 'HIDDEN'\n",
    "access_token = 'HIDDEN'\n",
    "access_secret = 'HIDDEN'\n",
    "\n",
    "auth = OAuthHandler(consumer_key, consumer_secret)\n",
    "auth.set_access_token(access_token, access_secret)\n",
    "\n",
    "api = tweepy.API(auth, wait_on_rate_limit=True)\n",
    "\n",
    "# NOTE TO STUDENT WITH MOBILE VERIFICATION ISSUES:\n",
    "# df_1 is a DataFrame with the twitter_archive_enhanced.csv file. You may have to\n",
    "# change line 17 to match the name of your DataFrame with twitter_archive_enhanced.csv\n",
    "# NOTE TO REVIEWER: this student had mobile verification issues so the following\n",
    "# Twitter API code was sent to this student from a Udacity instructor\n",
    "# Tweet IDs for which to gather additional data via Twitter's API\n",
    "tweet_ids = twitter_archive.tweet_id.values\n",
    "len(tweet_ids)\n",
    "\n",
    "# Query Twitter's API for JSON data for each tweet ID in the Twitter archive\n",
    "count = 0\n",
    "fails_dict = {}\n",
    "start = timer()\n",
    "# Save each tweet's returned JSON as a new line in a .txt file\n",
    "with open('tweet-json.txt', 'w') as outfile:\n",
    "    # This loop will likely take 20-30 minutes to run because of Twitter's rate limit\n",
    "    for tweet_id in tweet_ids:\n",
    "        count += 1\n",
    "        print(str(count) + \": \" + str(tweet_id))\n",
    "        try:\n",
    "            tweet = api.get_status(tweet_id, tweet_mode='extended')\n",
    "            print(\"Success\")\n",
    "            json.dump(tweet._json, outfile)\n",
    "            outfile.write('\\n')\n",
    "        except tweepy.errors.HTTPException as e:\n",
    "            print(\"Fail\")\n",
    "            fails_dict[tweet_id] = e\n",
    "            pass\n",
    "end = timer()\n",
    "print(end - start)\n",
    "print(fails_dict)"
   ]
  },
  {
   "cell_type": "code",
   "execution_count": 34,
   "metadata": {
    "scrolled": true
   },
   "outputs": [
    {
     "name": "stdout",
     "output_type": "stream",
     "text": [
      "No_show  Alcoholism\n",
      "No       False         0.967860\n",
      "         True          0.032140\n",
      "Yes      False         0.968196\n",
      "         True          0.031804\n",
      "Name: Alcoholism, dtype: float64\n"
     ]
    },
    {
     "data": {
      "image/png": "[encoded data removed]",
      "text/plain": [
       "<Figure size 432x288 with 1 Axes>"
      ]
     },
     "metadata": {
      "needs_background": "light"
     },
     "output_type": "display_data"
    }
   ],
   "source": [
    "#define a function\n",
    "def proportions (data, column):\n",
    "    new_data = data.groupby('No_show')[column].value_counts(normalize = True)\n",
    "    print(new_data)\n",
    "    new_data = new_data.reset_index(name = 'Proportions')\n",
    "    #create a barplot using seaborn plot for data visualization\n",
    "    sns.barplot(x= 'No_show', y='Proportions', data = new_data, hue = column)\n",
    "    plt.xlabel(\"WERE THE PATIENTS ABSENT?\")\n",
    "    plt.ylabel(\"PROPORTION OF PATIENTS WITH \" + column)\n",
    "    plt.title(\"EFFECT OF \" + column + \" ON PATIENTS' ATTENDANCE\")\n",
    "    plt.legend(title = column, fontsize = 'medium', title_fontsize = \"10\", bbox_to_anchor=(1.02, 1), loc='upper left', borderaxespad=0)\n",
    "    plt.show()\n",
    "    \n",
    "#call the \"proportions\" function to visualize \"Alcoholism\" as factor affecting \"No_show\"\n",
    "proportions(data_cleaned, 'Alcoholism')"
   ]
  },
  {
   "cell_type": "markdown",
   "metadata": {},
   "source": [
    "**The barplot of Patients' attendance against alcoholism shows us the following:**\n",
    "- **Approximately 0.97 proportion** of total patients **were not into alcoholism and were also present** at the hospital on their appointment day.\n",
    "- **Approximately 0.03 proportion** of total patients **were into alcoholism and were also present** at the hospital on their appointment day.\n",
    "- **Approximately 0.97 proportion** of total patients **were not into alcholism and were also absent** at the hospital on their appointment day.\n",
    "- **Approximately 0.03 proportion** of total patients **were into alcholism and were also absent** at the hospital on their appointment day."
   ]
  },
  {
   "cell_type": "markdown",
   "metadata": {},
   "source": [
    "### - Does having a scholarship affect whether the patient will show up or not?"
   ]
  },
  {
   "cell_type": "markdown",
   "metadata": {},
   "source": [
    "**Bivariate analysis on \"No_show\" variable and \"Scholarship\" variable**\n",
    "- call the \"proportions\" function to visualize \"Scholarship\" as a factor affecting \"No_show\" (patients' attendance)"
   ]
  },
  {
   "cell_type": "code",
   "execution_count": 35,
   "metadata": {
    "scrolled": true
   },
   "outputs": [
    {
     "name": "stdout",
     "output_type": "stream",
     "text": [
      "No_show  Scholarship\n",
      "No       False          0.902138\n",
      "         True           0.097862\n",
      "Yes      False          0.879476\n",
      "         True           0.120524\n",
      "Name: Scholarship, dtype: float64\n"
     ]
    },
    {
     "data": {
      "image/png": "[encoded data removed]",
      "text/plain": [
       "<Figure size 432x288 with 1 Axes>"
      ]
     },
     "metadata": {
      "needs_background": "light"
     },
     "output_type": "display_data"
    }
   ],
   "source": [
    "proportions(data_cleaned, 'Scholarship')"
   ]
  },
  {
   "cell_type": "markdown",
   "metadata": {},
   "source": [
    "**After conducting a value count on patients' attendance based on having a scholarship, we can deduce the following from the proportions output above:**\n",
    "- **0.902138 proportion** of total patients **did not have scholarship and were also present** at the hospital on their appointment day.\n",
    "- **0.097862 proportion** of total patients **had scholarship and were also present** at the hospital on their appointment day.\n",
    "- **0.879476 proportion** of total patients **did not have scholarship and were also absent** at the hospital on their appointment day.\n",
    "- **0.120524 proportion** of total patients **had scholarship and were also absent** at the hospital on their appointment day."
   ]
  },
  {
   "cell_type": "markdown",
   "metadata": {},
   "source": [
    "**The barplot of Patients' attendance against having a scholarship shows us the following:**\n",
    "- **Approximately 0.90 proportion** of total patients **did not have scholarship and were also present** at the hospital on their appointment day.\n",
    "- **Approximately 0.10 proportion** of total patients **had scholarship and were also present** at the hospital on their appointment day.\n",
    "- **Approximately 0.88 proportion** of total patients **did not have scholarship and were also absent** at the hospital on their appointment day.\n",
    "- **Approximately 0.12 proportion** of total patients **had scholarship and were also absent** at the hospital on their appointment day."
   ]
  },
  {
   "cell_type": "markdown",
   "metadata": {},
   "source": [
    "### - Does having hypertension affect the patient's absence?"
   ]
  },
  {
   "cell_type": "markdown",
   "metadata": {},
   "source": [
    "**Bivariate analysis on \"No_show\" variable and \"Hypertension\" variable**\n",
    "- call the \"proportions\" function to visualize \"Hypertension\" as a factor affecting \"No_show\" (patients' attendance)"
   ]
  },
  {
   "cell_type": "code",
   "execution_count": 36,
   "metadata": {},
   "outputs": [
    {
     "name": "stdout",
     "output_type": "stream",
     "text": [
      "No_show  Hypertension\n",
      "No       False           0.784274\n",
      "         True            0.215726\n",
      "Yes      False           0.823407\n",
      "         True            0.176593\n",
      "Name: Hypertension, dtype: float64\n"
     ]
    },
    {
     "data": {
      "image/png": "[encoded data removed]",
      "text/plain": [
       "<Figure size 432x288 with 1 Axes>"
      ]
     },
     "metadata": {
      "needs_background": "light"
     },
     "output_type": "display_data"
    }
   ],
   "source": [
    "proportions(data_cleaned, 'Hypertension')"
   ]
  },
  {
   "cell_type": "markdown",
   "metadata": {},
   "source": [
    "**After conducting a value count on patients' attendance based on having hypertension, we can deduce the following from the proportions output above:**\n",
    "- **0.784274 proportion** of total patients **did not have hypertension and were also present** at the hospital on their appointment day.\n",
    "- **0.215726 proportion** of total patients **had hypertension and were also present** at the hospital on their appointment day.\n",
    "- **0.823407 proportion** of total patients **did not have hypertension and were also absent** at the hospital on their appointment day.\n",
    "- **0.176593 proportion** of total patients **had hypertension and were also absent** at the hospital on their appointment day."
   ]
  },
  {
   "cell_type": "markdown",
   "metadata": {},
   "source": [
    "**The barplot of Patients' attendance against having hypertension shows us the following:**\n",
    "- **Approximately 0.78 proportion** of total patients **did not have hypertension and were also present** at the hospital on their appointment day.\n",
    "- **Approximately 0.22 proportion** of total patients **had hypertension and were also present** at the hospital on their appointment day.\n",
    "- **Approximately 0.82 proportion** of total patients **did not have hypertension and were also absent** at the hospital on their appointment day.\n",
    "- **Approximately 0.18 proportion** of total patients **had hypertension and were also absent** at the hospital on their appointment day."
   ]
  },
  {
   "cell_type": "markdown",
   "metadata": {},
   "source": [
    "### - Does being handicapped affect the patient's absence?"
   ]
  },
  {
   "cell_type": "markdown",
   "metadata": {},
   "source": [
    "**Bivariate analysis on \"No_show\" variable and \"Handicapped\" variable**\n",
    "- call the \"proportions\" function to visualize being \"Handicapped\" as a factor affecting \"No_show\" (patients' attendance)"
   ]
  },
  {
   "cell_type": "code",
   "execution_count": 37,
   "metadata": {},
   "outputs": [
    {
     "name": "stdout",
     "output_type": "stream",
     "text": [
      "No_show  Handicapped\n",
      "No       False          0.979902\n",
      "         True           0.020098\n",
      "Yes      False          0.982755\n",
      "         True           0.017245\n",
      "Name: Handicapped, dtype: float64\n"
     ]
    },
    {
     "data": {
      "image/png": "[encoded data removed]",
      "text/plain": [
       "<Figure size 432x288 with 1 Axes>"
      ]
     },
     "metadata": {
      "needs_background": "light"
     },
     "output_type": "display_data"
    }
   ],
   "source": [
    "proportions(data_cleaned, 'Handicapped')"
   ]
  },
  {
   "cell_type": "markdown",
   "metadata": {},
   "source": [
    "**After conducting a value count on patients' attendance based on being handicapped, we can deduce the following from the proportions output above:**\n",
    "- **0.979902 proportion** of total patients **were not hadicapped and were also present** at the hospital on their appointment day.\n",
    "- **0.020098 proportion** of total patients **were handicapped and were also present** at the hospital on their appointment day.\n",
    "- **0.982755 proportion** of total patients **were not handicapped and were also absent** at the hospital on their appointment day.\n",
    "- **0.017245 proportion** of total patients **were handicapped and were also absent** at the hospital on their appointment day."
   ]
  },
  {
   "cell_type": "markdown",
   "metadata": {},
   "source": [
    "**The barplot of Patients' attendance against being handicapped shows us the following:**\n",
    "- **Approximately 0.98 proportion** of total patients **were not hadicapped and were also present** at the hospital on their appointment day.\n",
    "- **Approximately 0.02 proportion** of total patients **were handicapped and were also present** at the hospital on their appointment day.\n",
    "- **Approximately 0.98 proportion** of total patients **were not handicapped and were also absent** at the hospital on their appointment day.\n",
    "- **Approximately 0.02 proportion** of total patients **were handicapped and were also absent** at the hospital on their appointment day."
   ]
  },
  {
   "cell_type": "markdown",
   "metadata": {},
   "source": [
    "### - Does having diabetes affect the patient's absence?"
   ]
  },
  {
   "cell_type": "markdown",
   "metadata": {},
   "source": [
    "**Bivariate analysis on \"No_show\" variable and \"Diabetes\" variable**\n",
    "- call the \"proportions\" function to visualize \"Diabetes\" as a factor affecting \"No_show\" (patients' attendance)"
   ]
  },
  {
   "cell_type": "code",
   "execution_count": 38,
   "metadata": {},
   "outputs": [
    {
     "name": "stdout",
     "output_type": "stream",
     "text": [
      "No_show  Diabetes\n",
      "No       False       0.922224\n",
      "         True        0.077776\n",
      "Yes      False       0.933047\n",
      "         True        0.066953\n",
      "Name: Diabetes, dtype: float64\n"
     ]
    },
    {
     "data": {
      "image/png": "[encoded data removed]",
      "text/plain": [
       "<Figure size 432x288 with 1 Axes>"
      ]
     },
     "metadata": {
      "needs_background": "light"
     },
     "output_type": "display_data"
    }
   ],
   "source": [
    "proportions(data_cleaned, 'Diabetes')"
   ]
  },
  {
   "cell_type": "markdown",
   "metadata": {},
   "source": [
    "**After conducting a value count on patients' attendance based on having diabetes, we can deduce the following from the proportions output above:**\n",
    "- **0.922224 proportion** of total patients **did not have diabetes and were also present** at the hospital on their appointment day.\n",
    "- **0.077776 proportion** of total patients **had diabetes and were also present** at the hospital on their appointment day.\n",
    "- **0.933047 proportion** of total patients **did not have diabetes and were also absent** at the hospital on their appointment day.\n",
    "- **0.066953 proportion** of total patients **had diabetes and were also absent** at the hospital on their appointment day."
   ]
  },
  {
   "cell_type": "markdown",
   "metadata": {},
   "source": [
    "**The barplot of Patients' attendance against having diabetes shows us the following:**\n",
    "- **Approximately 0.92 proportion** of total patients **did not have diabetes and were also present** at the hospital on their appointment day.\n",
    "- **Approximately 0.08 proportion** of total patients **had diabetes and were also present** at the hospital on their appointment day.\n",
    "- **Approximately 0.93 proportion** of total patients **did not have diabetes and were also absent** at the hospital on their appointment day.\n",
    "- **Approximately 0.07 proportion** of total patients **had diabetes and were also absent** at the hospital on their appointment day."
   ]
  },
  {
   "cell_type": "markdown",
   "metadata": {},
   "source": [
    "### - Does the SMS reminder sent to each patients reduce their ability be absent?"
   ]
  },
  {
   "cell_type": "markdown",
   "metadata": {},
   "source": [
    "**Bivariate analysis on \"No_show\" variable and \"SMS_received\" variable**\n",
    "- call the \"proportions\" function to visualize \"SMS_received\" as a factor affecting \"No_show\" (patients' attendance)"
   ]
  },
  {
   "cell_type": "code",
   "execution_count": 39,
   "metadata": {},
   "outputs": [
    {
     "name": "stdout",
     "output_type": "stream",
     "text": [
      "No_show  SMS_received\n",
      "No       False           0.704602\n",
      "         True            0.295398\n",
      "Yes      False           0.558613\n",
      "         True            0.441387\n",
      "Name: SMS_received, dtype: float64\n"
     ]
    },
    {
     "data": {
      "image/png": "[encoded data removed]",
      "text/plain": [
       "<Figure size 432x288 with 1 Axes>"
      ]
     },
     "metadata": {
      "needs_background": "light"
     },
     "output_type": "display_data"
    }
   ],
   "source": [
    "proportions(data_cleaned, 'SMS_received')"
   ]
  },
  {
   "cell_type": "markdown",
   "metadata": {},
   "source": [
    "**After conducting a value count on patients' attendance based on receiving SMS, we can deduce the following from the proportions output above:**\n",
    "- **0.704602 proportion** of total patients **did not receive SMS and were also present** at the hospital on their appointment day.\n",
    "- **0.295398 proportion** of total patients **received SMS and were also present** at the hospital on their appointment day.\n",
    "- **0.558613 proportion** of total patients **did not receive SMS and were also absent** at the hospital on their appointment day.\n",
    "- **0.441387 proportion** of total patients **received SMS and were also absent** at the hospital on their appointment day."
   ]
  },
  {
   "cell_type": "markdown",
   "metadata": {},
   "source": [
    "**The barplot of Patients' attendance against receiving SMS shows us the following:**\n",
    "- **Approximately 0.70 proportion** of total patients **did not receive SMS and were also present** at the hospital on their appointment day.\n",
    "- **Approximately 0.29 proportion** of total patients **received SMS and were also present** at the hospital on their appointment day.\n",
    "- **Approximately 0.56 proportion** of total patients **did not receive SMS and were also absent** at the hospital on their appointment day.\n",
    "- **Approximately 0.44 proportion** of total patients **received SMS and were also absent** at the hospital on their appointment day."
   ]
  },
  {
   "cell_type": "markdown",
   "metadata": {},
   "source": [
    "### - Does the patient's gender affect their ability to be absent? Which gender visits the hospital more on their appointment day? Which gender is more health conscious?"
   ]
  },
  {
   "cell_type": "markdown",
   "metadata": {},
   "source": [
    "**Bivariate analysis on \"No_show\" variable and \"Gender\" variable**\n",
    "- Group the \"Gender\" column by \"No_show\" entries.\n",
    "- Use value_counts to better understand the distribution of alcoholism based on the No_show entries.\n",
    "- Use reset_index() to reset index of the \"data_cleaned\" dataframe object to default indexing. \n",
    "\n",
    "Read more about \"reset_index.()\" here:https://www.machinelearningplus.com/pandas/pandas-reset-index/#:~:text=reset_index%20in%20pandas%20is%20used,gets%20converted%20to%20a%20column.\n",
    "\n",
    "- Use a barplot to visualize \"Gender\" as a factor affecting \"No_show\" (patients' attendance) i.e plot gender against no show"
   ]
  },
  {
   "cell_type": "code",
   "execution_count": 40,
   "metadata": {},
   "outputs": [
    {
     "name": "stdout",
     "output_type": "stream",
     "text": [
      "No_show  Gender\n",
      "No       Female    0.658823\n",
      "         Male      0.341177\n",
      "Yes      Female    0.661845\n",
      "         Male      0.338155\n",
      "Name: Gender, dtype: float64\n"
     ]
    },
    {
     "data": {
      "image/png": "[encoded data removed]",
      "text/plain": [
       "<Figure size 432x288 with 1 Axes>"
      ]
     },
     "metadata": {
      "needs_background": "light"
     },
     "output_type": "display_data"
    }
   ],
   "source": [
    "new_data = data_cleaned.groupby('No_show')['Gender'].value_counts(normalize = True)\n",
    "print(new_data)\n",
    "new_data = new_data.reset_index(name = 'Proportions')\n",
    "#create a barplot using seaborn plot for data visualization\n",
    "sns.barplot(x= 'No_show', y='Proportions', data = new_data, hue = 'Gender')\n",
    "plt.xlabel(\"WERE THE PATIENTS ABSENTS?\")\n",
    "plt.ylabel(\"PROPORTION OF GENDER\")\n",
    "plt.title(\"EFFECT OF GENDER ON PATIENTS' ATTENDANCE\")\n",
    "plt.legend(title = 'Gender', fontsize = 'medium', title_fontsize = \"10\", bbox_to_anchor=(1.02, 1), loc='upper left', borderaxespad=0)\n",
    "plt.show()"
   ]
  },
  {
   "cell_type": "markdown",
   "metadata": {},
   "source": [
    "**After conducting a value count on patients' attendance based on their gender, we can deduce the following from the proportions output above:**\n",
    "- **0.658823 proportion** of total patients **were female and were also present** at the hospital on their appointment day.\n",
    "- **0.341177 proportion** of total patients **were male and were also present** at the hospital on their appointment day.\n",
    "- **0.661845 proportion** of total patients **were female and were also absent** at the hospital on their appointment day.\n",
    "- **0.338155 proportion** of total patients **were male and were also absent** at the hospital on their appointment day."
   ]
  },
  {
   "cell_type": "markdown",
   "metadata": {},
   "source": [
    "**The barplot of Patients' attendance against their gender shows us the following:**\n",
    "- **Approximately 0.66 proportion** of total patients **were female and were also present** at the hospital on their appointment day.\n",
    "- **Approximately 0.34 proportion** of total patients **were male and were also present** at the hospital on their appointment day.\n",
    "- **Approximately 0.66 proportion** of total patients **were female and were also absent** at the hospital on their appointment day.\n",
    "- **Approximately 0.33 proportion** of total patients **were male and were also absent** at the hospital on their appointment day."
   ]
  },
  {
   "cell_type": "markdown",
   "metadata": {},
   "source": [
    "### - Is age a contributing factor to a patient's absence?"
   ]
  },
  {
   "cell_type": "markdown",
   "metadata": {},
   "source": [
    "**Bivariate analysis on \"No_show\" variable and \"Gender\" variable**\n",
    "\n",
    "Put age groups in categories from the minimum age 1 to the maximum age 115. \n",
    "\n",
    "Name the categories for the different age groups.\n",
    "\n",
    "**CATEGORIES & AGE GROUPS**\n",
    "- Child: 0-12 years old\n",
    "- Teenager: 13-19 years old\n",
    "- Young Adult: 20-35 years old\n",
    "- Adult: 36-60 years old\n",
    "- Old person: 61-150 years old\n",
    "\n",
    "Add the new Categories to the dataframe.\n",
    "\n",
    "Use a barplot to visualize age \"Categories\" as a factor affecting \"No_show\" (patients' attendance) i.e plot categories against no show."
   ]
  },
  {
   "cell_type": "code",
   "execution_count": 41,
   "metadata": {
    "scrolled": false
   },
   "outputs": [
    {
     "name": "stderr",
     "output_type": "stream",
     "text": [
      "C:\\Users\\User\\AppData\\Local\\Temp/ipykernel_19812/1772479569.py:5: SettingWithCopyWarning: \n",
      "A value is trying to be set on a copy of a slice from a DataFrame.\n",
      "Try using .loc[row_indexer,col_indexer] = value instead\n",
      "\n",
      "See the caveats in the documentation: https://pandas.pydata.org/pandas-docs/stable/user_guide/indexing.html#returning-a-view-versus-a-copy\n",
      "  data_cleaned['age_categories'] = pd.cut(data_cleaned['Age'], bins=bins, labels=labels, right=False)\n"
     ]
    },
    {
     "data": {
      "text/html": [
       "<div>\n",
       "<style scoped>\n",
       "    .dataframe tbody tr th:only-of-type {\n",
       "        vertical-align: middle;\n",
       "    }\n",
       "\n",
       "    .dataframe tbody tr th {\n",
       "        vertical-align: top;\n",
       "    }\n",
       "\n",
       "    .dataframe thead th {\n",
       "        text-align: right;\n",
       "    }\n",
       "</style>\n",
       "<table border=\"1\" class=\"dataframe\">\n",
       "  <thead>\n",
       "    <tr style=\"text-align: right;\">\n",
       "      <th></th>\n",
       "      <th>Patient_ID</th>\n",
       "      <th>Appointment_ID</th>\n",
       "      <th>Gender</th>\n",
       "      <th>Scheduled_Day</th>\n",
       "      <th>Appointment_Day</th>\n",
       "      <th>Age</th>\n",
       "      <th>Neighbourhood</th>\n",
       "      <th>Scholarship</th>\n",
       "      <th>Hypertension</th>\n",
       "      <th>Diabetes</th>\n",
       "      <th>Alcoholism</th>\n",
       "      <th>Handicapped</th>\n",
       "      <th>SMS_received</th>\n",
       "      <th>No_show</th>\n",
       "      <th>age_categories</th>\n",
       "    </tr>\n",
       "  </thead>\n",
       "  <tbody>\n",
       "    <tr>\n",
       "      <th>0</th>\n",
       "      <td>29872499824296.0</td>\n",
       "      <td>5642903</td>\n",
       "      <td>Female</td>\n",
       "      <td>2016-04-29 18:38:08+00:00</td>\n",
       "      <td>2016-04-29 00:00:00+00:00</td>\n",
       "      <td>62</td>\n",
       "      <td>JARDIM DA PENHA</td>\n",
       "      <td>False</td>\n",
       "      <td>True</td>\n",
       "      <td>False</td>\n",
       "      <td>False</td>\n",
       "      <td>False</td>\n",
       "      <td>False</td>\n",
       "      <td>No</td>\n",
       "      <td>Old_person</td>\n",
       "    </tr>\n",
       "    <tr>\n",
       "      <th>1</th>\n",
       "      <td>558997776694438.0</td>\n",
       "      <td>5642503</td>\n",
       "      <td>Male</td>\n",
       "      <td>2016-04-29 16:08:27+00:00</td>\n",
       "      <td>2016-04-29 00:00:00+00:00</td>\n",
       "      <td>56</td>\n",
       "      <td>JARDIM DA PENHA</td>\n",
       "      <td>False</td>\n",
       "      <td>False</td>\n",
       "      <td>False</td>\n",
       "      <td>False</td>\n",
       "      <td>False</td>\n",
       "      <td>False</td>\n",
       "      <td>No</td>\n",
       "      <td>Adult</td>\n",
       "    </tr>\n",
       "    <tr>\n",
       "      <th>2</th>\n",
       "      <td>4262962299951.0</td>\n",
       "      <td>5642549</td>\n",
       "      <td>Female</td>\n",
       "      <td>2016-04-29 16:19:04+00:00</td>\n",
       "      <td>2016-04-29 00:00:00+00:00</td>\n",
       "      <td>62</td>\n",
       "      <td>MATA DA PRAIA</td>\n",
       "      <td>False</td>\n",
       "      <td>False</td>\n",
       "      <td>False</td>\n",
       "      <td>False</td>\n",
       "      <td>False</td>\n",
       "      <td>False</td>\n",
       "      <td>No</td>\n",
       "      <td>Old_person</td>\n",
       "    </tr>\n",
       "    <tr>\n",
       "      <th>3</th>\n",
       "      <td>867951213174.0</td>\n",
       "      <td>5642828</td>\n",
       "      <td>Female</td>\n",
       "      <td>2016-04-29 17:29:31+00:00</td>\n",
       "      <td>2016-04-29 00:00:00+00:00</td>\n",
       "      <td>8</td>\n",
       "      <td>PONTAL DE CAMBURI</td>\n",
       "      <td>False</td>\n",
       "      <td>False</td>\n",
       "      <td>False</td>\n",
       "      <td>False</td>\n",
       "      <td>False</td>\n",
       "      <td>False</td>\n",
       "      <td>No</td>\n",
       "      <td>Child</td>\n",
       "    </tr>\n",
       "    <tr>\n",
       "      <th>4</th>\n",
       "      <td>8841186448183.0</td>\n",
       "      <td>5642494</td>\n",
       "      <td>Female</td>\n",
       "      <td>2016-04-29 16:07:23+00:00</td>\n",
       "      <td>2016-04-29 00:00:00+00:00</td>\n",
       "      <td>56</td>\n",
       "      <td>JARDIM DA PENHA</td>\n",
       "      <td>False</td>\n",
       "      <td>True</td>\n",
       "      <td>True</td>\n",
       "      <td>False</td>\n",
       "      <td>False</td>\n",
       "      <td>False</td>\n",
       "      <td>No</td>\n",
       "      <td>Adult</td>\n",
       "    </tr>\n",
       "  </tbody>\n",
       "</table>\n",
       "</div>"
      ],
      "text/plain": [
       "          Patient_ID Appointment_ID  Gender             Scheduled_Day  \\\n",
       "0   29872499824296.0        5642903  Female 2016-04-29 18:38:08+00:00   \n",
       "1  558997776694438.0        5642503    Male 2016-04-29 16:08:27+00:00   \n",
       "2    4262962299951.0        5642549  Female 2016-04-29 16:19:04+00:00   \n",
       "3     867951213174.0        5642828  Female 2016-04-29 17:29:31+00:00   \n",
       "4    8841186448183.0        5642494  Female 2016-04-29 16:07:23+00:00   \n",
       "\n",
       "            Appointment_Day  Age      Neighbourhood  Scholarship  \\\n",
       "0 2016-04-29 00:00:00+00:00   62    JARDIM DA PENHA        False   \n",
       "1 2016-04-29 00:00:00+00:00   56    JARDIM DA PENHA        False   \n",
       "2 2016-04-29 00:00:00+00:00   62      MATA DA PRAIA        False   \n",
       "3 2016-04-29 00:00:00+00:00    8  PONTAL DE CAMBURI        False   \n",
       "4 2016-04-29 00:00:00+00:00   56    JARDIM DA PENHA        False   \n",
       "\n",
       "   Hypertension  Diabetes  Alcoholism  Handicapped  SMS_received No_show  \\\n",
       "0          True     False       False        False         False      No   \n",
       "1         False     False       False        False         False      No   \n",
       "2         False     False       False        False         False      No   \n",
       "3         False     False       False        False         False      No   \n",
       "4          True      True       False        False         False      No   \n",
       "\n",
       "  age_categories  \n",
       "0     Old_person  \n",
       "1          Adult  \n",
       "2     Old_person  \n",
       "3          Child  \n",
       "4          Adult  "
      ]
     },
     "execution_count": 41,
     "metadata": {},
     "output_type": "execute_result"
    }
   ],
   "source": [
    "#specify bins\n",
    "bins= [0,12,19,35,60,150]\n",
    "labels = ['Child','Teenager','Young_Adult','Adult','Old_person']\n",
    "#create a new column for age categories\n",
    "data_cleaned['age_categories'] = pd.cut(data_cleaned['Age'], bins=bins, labels=labels, right=False)\n",
    "#View the first five rows of the updated dataframe\n",
    "data_cleaned.head()"
   ]
  },
  {
   "cell_type": "markdown",
   "metadata": {},
   "source": [
    "**Get the proportion of the age categories using .value_counts()**"
   ]
  },
  {
   "cell_type": "code",
   "execution_count": 42,
   "metadata": {},
   "outputs": [
    {
     "data": {
      "text/plain": [
       "Adult          0.360532\n",
       "Young_Adult    0.217442\n",
       "Old_person     0.201894\n",
       "Child          0.135043\n",
       "Teenager       0.085088\n",
       "Name: age_categories, dtype: float64"
      ]
     },
     "execution_count": 42,
     "metadata": {},
     "output_type": "execute_result"
    }
   ],
   "source": [
    "data_cleaned['age_categories'].value_counts(normalize = True)"
   ]
  },
  {
   "cell_type": "markdown",
   "metadata": {},
   "source": [
    "**The value counts above shows the following:**\n",
    "- **0.360532** proportion of the total patients are **Adults**\n",
    "- **0.217442** proportion of the total patients are **Young Adults**\n",
    "- **0.201894** proportion of the total patients are **Old People**\n",
    "- **0.135043** proportion of the total patients are **Children**\n",
    "- **0.085088** proportion of the total patients are **Teenagers**"
   ]
  },
  {
   "cell_type": "code",
   "execution_count": 43,
   "metadata": {},
   "outputs": [
    {
     "data": {
      "text/html": [
       "<div>\n",
       "<style scoped>\n",
       "    .dataframe tbody tr th:only-of-type {\n",
       "        vertical-align: middle;\n",
       "    }\n",
       "\n",
       "    .dataframe tbody tr th {\n",
       "        vertical-align: top;\n",
       "    }\n",
       "\n",
       "    .dataframe thead th {\n",
       "        text-align: right;\n",
       "    }\n",
       "</style>\n",
       "<table border=\"1\" class=\"dataframe\">\n",
       "  <thead>\n",
       "    <tr style=\"text-align: right;\">\n",
       "      <th></th>\n",
       "      <th>No_show</th>\n",
       "      <th>level_1</th>\n",
       "      <th>proportions</th>\n",
       "    </tr>\n",
       "  </thead>\n",
       "  <tbody>\n",
       "    <tr>\n",
       "      <th>0</th>\n",
       "      <td>No</td>\n",
       "      <td>Adult</td>\n",
       "      <td>0.365274</td>\n",
       "    </tr>\n",
       "    <tr>\n",
       "      <th>1</th>\n",
       "      <td>No</td>\n",
       "      <td>Old_person</td>\n",
       "      <td>0.214645</td>\n",
       "    </tr>\n",
       "    <tr>\n",
       "      <th>2</th>\n",
       "      <td>No</td>\n",
       "      <td>Young_Adult</td>\n",
       "      <td>0.207321</td>\n",
       "    </tr>\n",
       "    <tr>\n",
       "      <th>3</th>\n",
       "      <td>No</td>\n",
       "      <td>Child</td>\n",
       "      <td>0.133700</td>\n",
       "    </tr>\n",
       "    <tr>\n",
       "      <th>4</th>\n",
       "      <td>No</td>\n",
       "      <td>Teenager</td>\n",
       "      <td>0.079060</td>\n",
       "    </tr>\n",
       "    <tr>\n",
       "      <th>5</th>\n",
       "      <td>Yes</td>\n",
       "      <td>Adult</td>\n",
       "      <td>0.341924</td>\n",
       "    </tr>\n",
       "    <tr>\n",
       "      <th>6</th>\n",
       "      <td>Yes</td>\n",
       "      <td>Young_Adult</td>\n",
       "      <td>0.257162</td>\n",
       "    </tr>\n",
       "    <tr>\n",
       "      <th>7</th>\n",
       "      <td>Yes</td>\n",
       "      <td>Old_person</td>\n",
       "      <td>0.151856</td>\n",
       "    </tr>\n",
       "    <tr>\n",
       "      <th>8</th>\n",
       "      <td>Yes</td>\n",
       "      <td>Child</td>\n",
       "      <td>0.140313</td>\n",
       "    </tr>\n",
       "    <tr>\n",
       "      <th>9</th>\n",
       "      <td>Yes</td>\n",
       "      <td>Teenager</td>\n",
       "      <td>0.108745</td>\n",
       "    </tr>\n",
       "  </tbody>\n",
       "</table>\n",
       "</div>"
      ],
      "text/plain": [
       "  No_show      level_1  proportions\n",
       "0      No        Adult     0.365274\n",
       "1      No   Old_person     0.214645\n",
       "2      No  Young_Adult     0.207321\n",
       "3      No        Child     0.133700\n",
       "4      No     Teenager     0.079060\n",
       "5     Yes        Adult     0.341924\n",
       "6     Yes  Young_Adult     0.257162\n",
       "7     Yes   Old_person     0.151856\n",
       "8     Yes        Child     0.140313\n",
       "9     Yes     Teenager     0.108745"
      ]
     },
     "execution_count": 43,
     "metadata": {},
     "output_type": "execute_result"
    }
   ],
   "source": [
    "#Group the \"age_categories\" column by \"No_show\" entries\n",
    "#Use value_counts to better understand the distribution of age_categories based on the No_show entries\n",
    "#Use reset_index() to reset index of the \"data_cleaned\" dataframe object to default indexing. \n",
    "age_distribution = data_cleaned.groupby(['No_show'])['age_categories'].value_counts(normalize = True).reset_index(name = 'proportions')\n",
    "age_distribution"
   ]
  },
  {
   "cell_type": "markdown",
   "metadata": {},
   "source": [
    "**After conducting a value count on patients' attendance based on their age categories, we can deduce the following from the proportions output above:**\n",
    "- **0.365274** proportion of the total patients were **Adults who were also present** at the hospital on their appointment day.\n",
    "- **0.214645** proportion of the total patients were **Old people who were also present** at the hospital on their appointment day.\n",
    "- **0.207321** proportion of the total patients were **Young Adults who were also present** at the hospital on their appointment day.\n",
    "- **0.133700** proportion of the total patients were **Children who were also present** at the hospital on their appointment day.\n",
    "- **0.079060** proportion of the total patients were **Teenagers who were also present** at the hospital on their appointment day.\n",
    "- **0.341924** proportion of the total patients were **Adults who were also absent** at the hospital on their appointment day.\n",
    "- **0.257162** proportion of the total patients were **Old people who were also absent** at the hospital on their appointment day.\n",
    "- **0.151856** proportion of the total patients were **Young Adults who were also absent** at the hospital on their appointment day.\n",
    "- **0.140313** proportion of the total patients were **Children who were also absent** at the hospital on their appointment day.\n",
    "- **0.108745** proportion of the total patients were **Teenagers who were also absent** at the hospital on their appointment day."
   ]
  },
  {
   "cell_type": "markdown",
   "metadata": {},
   "source": [
    "**Plot a barchart showing the attendance of each age category**"
   ]
  },
  {
   "cell_type": "code",
   "execution_count": 44,
   "metadata": {
    "scrolled": true
   },
   "outputs": [
    {
     "data": {
      "image/png": "[encoded data removed]",
      "text/plain": [
       "<Figure size 432x288 with 1 Axes>"
      ]
     },
     "metadata": {
      "needs_background": "light"
     },
     "output_type": "display_data"
    }
   ],
   "source": [
    "sns.barplot(x= 'level_1', y= 'proportions', data = age_distribution, hue= 'No_show')\n",
    "plt.xlabel(\"AGE CATEGORIES OF PATIENTS\")\n",
    "plt.ylabel(\"NUMBER OF PATIENTS\")\n",
    "plt.title(\"EFFECT OF PATIENTS' AGE ATTENDANCE\")\n",
    "plt.legend(title = 'AGE DISTRIBUTION', fontsize = 'medium', title_fontsize = \"10\", bbox_to_anchor=(1.02, 1), loc='upper left', borderaxespad=0)\n",
    "plt.show()    "
   ]
  },
  {
   "cell_type": "markdown",
   "metadata": {},
   "source": [
    "**Barplot shows us that:**\n",
    "- **Approximately 0.13** proportion of patients were **Children who were present** at the hospital on their appointment day.\n",
    "- **Approximately 0.14** proportion of patients were **Children who were absent** at the hospital on their appointment day.\n",
    "- **Approximately 0.08** proportion of patients were **Teenagers who were present** at the hospital on their appointment day.\n",
    "- **Approximately 0.11** proportion of patients were **Teenagers who were absent** at the hospital on their appointment day.\n",
    "- **Approximately 0.20** proportion of patients were **Young Adults who were present** at the hospital on their appointment day.\n",
    "- **Approximately 0.15** proportion of patients were **Young Adults who were absent** at the hospital on their appointment day.\n",
    "- **Approximately 0.37** proportion of patients were **Adults who were present** at the hospital on their appointment day.\n",
    "- **Approximately 0.34** proportion of patients were **Adults who were absent** at the hospital on their appointment day.\n",
    "- **Approximately 0.21** proportion of patients were **Old people who were present** at the hospital on their appointment day.\n",
    "- **Approximately 0.26** proportion of patients were **Old people who were absent** at the hospital on their appointment day."
   ]
  },
  {
   "cell_type": "markdown",
   "metadata": {},
   "source": [
    "**For more insight, switch the parameters in the x and y axis. Meaning the age categories will be plotted against patients' attendance**"
   ]
  },
  {
   "cell_type": "code",
   "execution_count": 45,
   "metadata": {},
   "outputs": [
    {
     "data": {
      "image/png": "[encoded data removed]",
      "text/plain": [
       "<Figure size 432x288 with 1 Axes>"
      ]
     },
     "metadata": {
      "needs_background": "light"
     },
     "output_type": "display_data"
    }
   ],
   "source": [
    "sns.barplot(x= 'No_show', y= 'proportions', data = age_distribution, hue= 'level_1')\n",
    "plt.xlabel(\"WERE THE PATIENTS ABSENT?\")\n",
    "plt.ylabel(\"NUMBER OF PATIENTS\")\n",
    "plt.title(\"RELATIONSHIP BETWEEN PATIENTS' AGE CATEGORIES AND ATTENDANCE\")\n",
    "plt.legend(title = 'AGE CATEGORIES', fontsize = 'medium', title_fontsize = \"10\", bbox_to_anchor=(1.02, 1), loc='upper left', borderaxespad=0)\n",
    "plt.show()  "
   ]
  },
  {
   "cell_type": "markdown",
   "metadata": {},
   "source": [
    "**The barplot of Patients' attendance against their  shows us the following:**\n",
    "\n",
    "- **Approximately 0.37** proportion of the total patients were **Adults who were also present** at the hospital on their appointment day.\n",
    "- **Approximately 0.21** proportion of the total patients were **Old people who were also present** at the hospital on their appointment day.\n",
    "- **Approximately 0.20** proportion of the total patients were **Young Adults who were also present** at the hospital on their appointment day.\n",
    "- **Approximately 0.13** proportion of the total patients were **Children who were also present** at the hospital on their appointment day.\n",
    "- **Approximately 0.08** proportion of the total patients were **Teenagers who were also present** at the hospital on their appointment day.\n",
    "- **Approximately 0.34** proportion of the total patients were **Adults who were also absent** at the hospital on their appointment day.\n",
    "- **Approximately 0.26** proportion of the total patients were **Old people who were also absent** at the hospital on their appointment day.\n",
    "- **Approximately 0.15** proportion of the total patients were **Young Adults who were also absent** at the hospital on their appointment day.\n",
    "- **Approximately 0.14** proportion of the total patients were **Children who were also absent** at the hospital on their appointment day.\n",
    "- **Approximately 0.11** proportion of the total patients were **Teenagers who were also absent** at the hospital on their appointment day."
   ]
  },
  {
   "cell_type": "markdown",
   "metadata": {},
   "source": [
    "<a id='conclusions'></a>\n",
    "## Conclusions"
   ]
  },
  {
   "cell_type": "markdown",
   "metadata": {},
   "source": [
    "- **The proportion of patients who showed up for their appointment is 0.796929 (approximately 80% of the total population) while the proportion of patients who did not show up for their appointment is 0.203071 (approximately 20% of the total population)**\n",
    "\n",
    "- **Being Handicapped, having diabetes or being into alcoholism do not affect a patients abiity to not show up for their appointment. From the analysis we could see that patients with these conditions were able to show up for their appointments.**\n",
    "\n",
    "- **Hypertension slighty affects a patient's ability to show up at the hospital. From the analysis, the no-showers who had hypertension were more present than does who didnt.**\n",
    "\n",
    "- **The proportion of female and male pateints that showed up and also did not show up are almost the same. This means that gender does not affect a patient's ability to be absent on their appointment day.**\n",
    "\n",
    "- **From the analysis, we can see that women (females) visit the hospital more on their appointment day than men (males). Therefore this means that females are more health concious that males.**\n",
    "\n",
    "- **SMS reminder does not significantly affect the patient's abilty to show up or not as patients who didn’t receive SMS showed up more than those who received the SMS reminder**\n",
    "\n",
    "- **Age is a contributing factor to a patient's absense. From the analysis we can see that Adults and Old persons show up more during their appointment day i.e from age 36-60 (Adults) and age 60+ (Old persons) show up more.**\n",
    "- **Teenagers (age 13 - 19) show up to their appointment the least, followed by children between the ages of 1 to 12.**"
   ]
  },
  {
   "cell_type": "markdown",
   "metadata": {},
   "source": [
    "### Limitations"
   ]
  },
  {
   "cell_type": "markdown",
   "metadata": {},
   "source": [
    "- We were not given information about each patients neighbourhood or address. The distance from a patient's neighbourhood to the hospital location could have been a contributing factor to their absence (no_show)"
   ]
  }
 ],
 "metadata": {
  "kernelspec": {
   "display_name": "Python 3 (ipykernel)",
   "language": "python",
   "name": "python3"
  },
  "language_info": {
   "codemirror_mode": {
    "name": "ipython",
    "version": 3
   },
   "file_extension": ".py",
   "mimetype": "text/x-python",
   "name": "python",
   "nbconvert_exporter": "python",
   "pygments_lexer": "ipython3",
   "version": "3.9.12"
  }
 },
 "nbformat": 4,
 "nbformat_minor": 2
}
